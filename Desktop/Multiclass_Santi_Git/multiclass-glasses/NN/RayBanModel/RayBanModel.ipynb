{
 "cells": [
  {
   "cell_type": "code",
   "execution_count": 160,
   "metadata": {},
   "outputs": [],
   "source": [
    "import keras\n",
    "import os\n",
    "import tensorboard as tf\n",
    "from sklearn.model_selection import train_test_split\n",
    "from keras.models import Sequential\n",
    "from keras.layers.core import Dense\n",
    "from keras.layers import Dense, Conv2D, MaxPooling2D, Dropout, Flatten\n",
    "from keras.models import model_from_json\n",
    "from sklearn.model_selection import train_test_split\n",
    "from keras.preprocessing.image import img_to_array\n",
    "from keras.layers import Dropout\n",
    "from sklearn.metrics import classification_report, confusion_matrix\n",
    "import numpy as np\n",
    "import pandas as pd\n",
    "import PIL\n",
    "from PIL import Image\n",
    "from keras.preprocessing.image import ImageDataGenerator\n",
    "import scipy.io as sio\n",
    "#from imutils import paths\n",
    "from keras.utils import to_categorical\n",
    "import scipy.misc as mi\n",
    "import matplotlib.pyplot as plt"
   ]
  },
  {
   "cell_type": "code",
   "execution_count": 161,
   "metadata": {},
   "outputs": [],
   "source": [
    "# import the necessary packages\n",
    "import os\n",
    "\n",
    "def list_images(basePath, contains=None):\n",
    "    # return the set of files that are valid\n",
    "    return list_files(basePath, validExts=(\".jpg\", \".jpeg\", \".png\", \".bmp\", \".tif\", \".tiff\"), contains=contains)\n",
    "\n",
    "def list_files(basePath, validExts=(\".jpg\", \".jpeg\", \".png\", \".bmp\", \".tif\", \".tiff\"), contains=None):\n",
    "    # loop over the directory structure\n",
    "    for (rootDir, dirNames, filenames) in os.walk(basePath):\n",
    "        # loop over the filenames in the current directory\n",
    "        for filename in filenames:\n",
    "            # if the contains string is not none and the filename does not contain\n",
    "            # the supplied string, then ignore the file\n",
    "            if contains is not None and filename.find(contains) == -1:\n",
    "                continue\n",
    "\n",
    "            # determine the file extension of the current file\n",
    "            ext = filename[filename.rfind(\".\"):].lower()\n",
    "\n",
    "            # check to see if the file is an image and should be processed\n",
    "            if ext.endswith(validExts):\n",
    "                # construct the path to the image and yield it\n",
    "                imagePath = os.path.join(rootDir, filename).replace(\" \", \"\\\\ \")\n",
    "                yield imagePath"
   ]
  },
  {
   "cell_type": "code",
   "execution_count": 162,
   "metadata": {},
   "outputs": [],
   "source": [
    "def createModel():\n",
    "    model = Sequential()\n",
    "    \n",
    "    #Convolutional layers with 32 filters / kernels with a window size of 3×3\n",
    "    model.add(Conv2D(32, (3, 3), padding='same', activation='relu', input_shape=(128,128,3)))\n",
    "    model.add(Conv2D(32, (3, 3), activation='relu'))\n",
    "     #Max pooling layer with window size 2×2\n",
    "    model.add(MaxPooling2D(pool_size=(2, 2)))\n",
    "    model.add(Dropout(0.25))\n",
    "    \n",
    "    #Conv layer with 64 filters\n",
    "        \n",
    "    model.add(Conv2D(64, (3, 3), padding='same', activation='relu'))\n",
    "    model.add(Conv2D(64, (3, 3), activation='relu'))\n",
    "    model.add(MaxPooling2D(pool_size=(2, 2)))\n",
    "    model.add(Dropout(0.25))\n",
    " \n",
    "    model.add(Conv2D(64, (3, 3), padding='same', activation='relu'))\n",
    "    model.add(Conv2D(64, (3, 3), activation='relu'))\n",
    "    model.add(MaxPooling2D(pool_size=(2, 2)))\n",
    "    model.add(Dropout(0.25))\n",
    " \n",
    "    #Dense layer which performs the classification among 10 classes using a softmax layer\n",
    "    \n",
    "    model.add(Flatten())\n",
    "    model.add(Dense(512, activation='relu'))\n",
    "    model.add(Dropout(0.5))\n",
    "    model.add(Dense(2, activation='softmax'))\n",
    "     \n",
    "    return model"
   ]
  },
  {
   "cell_type": "code",
   "execution_count": 163,
   "metadata": {},
   "outputs": [],
   "source": [
    "from keras.layers.convolutional import Convolution2D, MaxPooling2D, ZeroPadding2D, AveragePooling2D\n",
    "from keras.optimizers import SGD, Adagrad\n",
    "\n",
    "def create_model_one():\n",
    "    model = Sequential()\n",
    "    model.add(ZeroPadding2D((1, 1), input_shape=(3, 128, 128), dim_ordering='th'))\n",
    "    model.add(Convolution2D(8, 3, 3, activation='relu', dim_ordering='th', init='he_uniform'))\n",
    "    model.add(Dropout(0.2))\n",
    "    model.add(MaxPooling2D(pool_size=(2, 2), strides=(2, 2), dim_ordering='th'))\n",
    "    model.add(ZeroPadding2D((1, 1), dim_ordering='th'))\n",
    "    model.add(Convolution2D(16, 3, 3, activation='relu', dim_ordering='th', init='he_uniform'))\n",
    "    model.add(MaxPooling2D(pool_size=(2, 2), strides=(2, 2), dim_ordering='th'))\n",
    "    model.add(Dropout(0.2))\n",
    "    \n",
    "    model.add(Flatten())\n",
    "    model.add(Dense(96, activation='relu',init='he_uniform'))\n",
    "    model.add(Dropout(0.4))\n",
    "    model.add(Dense(24, activation='relu',init='he_uniform'))\n",
    "    model.add(Dropout(0.2))\n",
    "    model.add(Dense(2, activation='softmax'))\n",
    "\n",
    "    sgd = SGD(lr=1e-2, decay=1e-4, momentum=0.89, nesterov=False)\n",
    "    model.compile(optimizer=sgd, loss='categorical_crossentropy' , metrics=['accuracy'])\n",
    "\n",
    "    return model"
   ]
  },
  {
   "cell_type": "code",
   "execution_count": 164,
   "metadata": {},
   "outputs": [],
   "source": [
    "def createModel2():\n",
    "    model = Sequential()\n",
    "    # First conv layer:\n",
    "    # Filters: 32\n",
    "    # Kernel: 3x3 (9px)\n",
    "    model.add(Conv2D(32, (3, 3), input_shape=input_shape))\n",
    "    model.add(Activation('relu'))\n",
    "    # Max pool\n",
    "    # Size: 2x2 (combine 4px to 1)\n",
    "    model.add(MaxPooling2D(pool_size=(2, 2)))\n",
    "\n",
    "    # Second conv layer\n",
    "    # Filters: 32\n",
    "    # Kernel: 3x3 (9px)\n",
    "    model.add(Conv2D(32, (3, 3)))\n",
    "    model.add(Activation('relu'))\n",
    "    # Max pool\n",
    "    # Size: 2x2 (combine 4px to 1)\n",
    "    model.add(MaxPooling2D(pool_size=(2, 2)))\n",
    "\n",
    "    # Third conv layer\n",
    "    # Filters: 64\n",
    "    # Kernel: 3x3 (9px)\n",
    "    model.add(Conv2D(64, (3, 3)))\n",
    "    model.add(Activation('relu'))\n",
    "    # Max pool\n",
    "    # Size: 2x2 (combine 4px to 1)\n",
    "    model.add(MaxPooling2D(pool_size=(2, 2)))\n",
    "\n",
    "    # Flatten turns 3D map into vector\n",
    "    model.add(Flatten())\n",
    "    # Dense layer\n",
    "    model.add(Dense(64))\n",
    "    model.add(Activation('relu'))\n",
    "    model.add(Dropout(0.5))\n",
    "    # Output layer\n",
    "    model.add(Dense(1))\n",
    "    model.add(Activation('sigmoid'))\n",
    "    \n",
    "    return model"
   ]
  },
  {
   "cell_type": "code",
   "execution_count": 166,
   "metadata": {},
   "outputs": [],
   "source": [
    "model_2 = createModel()"
   ]
  },
  {
   "cell_type": "code",
   "execution_count": 103,
   "metadata": {},
   "outputs": [
    {
     "data": {
      "text/plain": [
       "array([[[255., 255., 255., ..., 255., 255., 255.],\n",
       "        [255., 255., 255., ..., 255., 255., 255.],\n",
       "        [255., 255., 255., ..., 255., 255., 255.],\n",
       "        ...,\n",
       "        [255., 255., 255., ..., 255., 255., 255.],\n",
       "        [255., 255., 255., ..., 254., 252., 253.],\n",
       "        [172., 171., 173., ..., 254., 254., 254.]],\n",
       "\n",
       "       [[254., 254., 252., ..., 255., 255., 255.],\n",
       "        [255., 255., 255., ..., 242., 239., 238.],\n",
       "        [187., 186., 190., ..., 245., 245., 255.],\n",
       "        ...,\n",
       "        [ 81., 192., 197., ..., 255., 255., 255.],\n",
       "        [255., 255., 255., ..., 255., 255., 255.],\n",
       "        [255., 255., 255., ...,  51., 109.,  92.]],\n",
       "\n",
       "       [[ 76., 251., 255., ..., 255., 255., 255.],\n",
       "        [255., 255., 255., ..., 255., 255., 255.],\n",
       "        [255., 255., 255., ...,  50., 123., 106.],\n",
       "        ...,\n",
       "        [255., 255., 255., ..., 255., 255., 255.],\n",
       "        [255., 255., 255., ..., 255., 255., 255.],\n",
       "        [255., 255., 255., ..., 255., 255., 255.]]], dtype=float32)"
      ]
     },
     "execution_count": 103,
     "metadata": {},
     "output_type": "execute_result"
    }
   ],
   "source": [
    "np.reshape(image , (3,64,64))"
   ]
  },
  {
   "cell_type": "code",
   "execution_count": 167,
   "metadata": {},
   "outputs": [],
   "source": [
    "import random\n",
    "import cv2"
   ]
  },
  {
   "cell_type": "code",
   "execution_count": 168,
   "metadata": {},
   "outputs": [],
   "source": [
    "seed = 9\n",
    "np.random.seed(seed)"
   ]
  },
  {
   "cell_type": "code",
   "execution_count": 169,
   "metadata": {},
   "outputs": [],
   "source": [
    "import pickle\n",
    "def savepickle(obj , filename):\n",
    "    f = open(filename+'.pckl', 'wb')\n",
    "    pickle.dump(obj, f)\n",
    "    f.close()\n",
    "def loadpickle(filename):\n",
    "    f = open(filename+'.pckl', 'rb')\n",
    "    obj = pickle.load(f)\n",
    "    f.close()\n",
    "    return obj"
   ]
  },
  {
   "cell_type": "code",
   "execution_count": 195,
   "metadata": {
    "scrolled": true
   },
   "outputs": [
    {
     "name": "stdout",
     "output_type": "stream",
     "text": [
      "[INFO] loading images...\n",
      "error loading  /home/neuronelab/Desktop/DatasetFinal/Other/Arman92.jpg\n"
     ]
    }
   ],
   "source": [
    "imageFolderPath = '/home/neuronelab/Desktop/DatasetFinal/'\n",
    "# initialize the data and labels\n",
    "print(\"[INFO] loading images...\")\n",
    "data = []\n",
    "labels = []\n",
    "\n",
    "# grab the image paths and randomly shuffle them\n",
    "imagePaths = sorted(list(list_images(imageFolderPath)))\n",
    "random.seed(42)\n",
    "random.shuffle(imagePaths)\n",
    "# loop over the input images\n",
    "for imagePath in imagePaths:\n",
    "    if imagePath is not None:\n",
    "        try:\n",
    "            # load the image, pre-process it, and store it in the data list\n",
    "            image = cv2.imread(imagePath)\n",
    "            zimage = cv2.resize(image, (128, 128))\n",
    "            image = img_to_array(zimage)\n",
    "            #image = np.reshape(image , (3,128,128))\n",
    "            data.append(image)\n",
    "            # extract the class label from the image path and update the\n",
    "            # labels list\n",
    "            label = imagePath.split(os.path.sep)[-2]\n",
    "            label = 1 if label == \"Ray-Ban\" else 0\n",
    "            labels.append(label)\n",
    "        except:\n",
    "            print(\"error loading \", imagePath)\n",
    "# scale the raw pixel intensities to the range [0, 1]\n",
    "data = np.array(data, dtype=\"float\") / 255.0\n",
    "labels = np.array(labels)"
   ]
  },
  {
   "cell_type": "code",
   "execution_count": 196,
   "metadata": {},
   "outputs": [
    {
     "name": "stdout",
     "output_type": "stream",
     "text": [
      "[0 0 0 ... 0 0 1]\n"
     ]
    }
   ],
   "source": [
    "print(labels)"
   ]
  },
  {
   "cell_type": "code",
   "execution_count": 197,
   "metadata": {},
   "outputs": [
    {
     "name": "stdout",
     "output_type": "stream",
     "text": [
      "(5074, 128, 128, 3)\n"
     ]
    }
   ],
   "source": [
    "(trainX, testX, trainY, testY) = train_test_split(data,labels, test_size=0.25, random_state=42)\n",
    "\n",
    "# convert the labels from integers to vectors\n",
    "trainY = to_categorical(trainY, num_classes=2)\n",
    "testY = to_categorical(testY, num_classes=2)\n",
    "print(trainX.shape)"
   ]
  },
  {
   "cell_type": "code",
   "execution_count": 198,
   "metadata": {},
   "outputs": [
    {
     "data": {
      "text/plain": [
       "array([[0., 1.],\n",
       "       [1., 0.],\n",
       "       [1., 0.],\n",
       "       ...,\n",
       "       [1., 0.],\n",
       "       [1., 0.],\n",
       "       [1., 0.]], dtype=float32)"
      ]
     },
     "execution_count": 198,
     "metadata": {},
     "output_type": "execute_result"
    }
   ],
   "source": [
    "testY"
   ]
  },
  {
   "cell_type": "code",
   "execution_count": 121,
   "metadata": {},
   "outputs": [
    {
     "name": "stderr",
     "output_type": "stream",
     "text": [
      "/home/neuronelab/anaconda3/lib/python3.6/site-packages/ipykernel_launcher.py:6: UserWarning: Update your `ZeroPadding2D` call to the Keras 2 API: `ZeroPadding2D((1, 1), input_shape=(3, 128, 1..., data_format=\"channels_first\")`\n",
      "  \n",
      "/home/neuronelab/anaconda3/lib/python3.6/site-packages/ipykernel_launcher.py:7: UserWarning: Update your `Conv2D` call to the Keras 2 API: `Conv2D(8, (3, 3), activation=\"relu\", data_format=\"channels_first\", kernel_initializer=\"he_uniform\")`\n",
      "  import sys\n",
      "/home/neuronelab/anaconda3/lib/python3.6/site-packages/ipykernel_launcher.py:9: UserWarning: Update your `MaxPooling2D` call to the Keras 2 API: `MaxPooling2D(pool_size=(2, 2), strides=(2, 2), data_format=\"channels_first\")`\n",
      "  if __name__ == '__main__':\n",
      "/home/neuronelab/anaconda3/lib/python3.6/site-packages/ipykernel_launcher.py:10: UserWarning: Update your `ZeroPadding2D` call to the Keras 2 API: `ZeroPadding2D((1, 1), data_format=\"channels_first\")`\n",
      "  # Remove the CWD from sys.path while we load stuff.\n",
      "/home/neuronelab/anaconda3/lib/python3.6/site-packages/ipykernel_launcher.py:11: UserWarning: Update your `Conv2D` call to the Keras 2 API: `Conv2D(16, (3, 3), activation=\"relu\", data_format=\"channels_first\", kernel_initializer=\"he_uniform\")`\n",
      "  # This is added back by InteractiveShellApp.init_path()\n",
      "/home/neuronelab/anaconda3/lib/python3.6/site-packages/ipykernel_launcher.py:12: UserWarning: Update your `MaxPooling2D` call to the Keras 2 API: `MaxPooling2D(pool_size=(2, 2), strides=(2, 2), data_format=\"channels_first\")`\n",
      "  if sys.path[0] == '':\n",
      "/home/neuronelab/anaconda3/lib/python3.6/site-packages/ipykernel_launcher.py:16: UserWarning: Update your `Dense` call to the Keras 2 API: `Dense(96, activation=\"relu\", kernel_initializer=\"he_uniform\")`\n",
      "  app.launch_new_instance()\n",
      "/home/neuronelab/anaconda3/lib/python3.6/site-packages/ipykernel_launcher.py:18: UserWarning: Update your `Dense` call to the Keras 2 API: `Dense(24, activation=\"relu\", kernel_initializer=\"he_uniform\")`\n"
     ]
    }
   ],
   "source": [
    "prova = create()"
   ]
  },
  {
   "cell_type": "code",
   "execution_count": 123,
   "metadata": {},
   "outputs": [
    {
     "name": "stdout",
     "output_type": "stream",
     "text": [
      "Train on 4137 samples, validate on 1379 samples\n",
      "Epoch 1/50\n",
      "4137/4137 [==============================] - 43s 10ms/step - loss: 1.3519 - acc: 0.9161 - val_loss: 1.6831 - val_acc: 0.8956\n",
      "Epoch 2/50\n",
      "4137/4137 [==============================] - 42s 10ms/step - loss: 1.3519 - acc: 0.9161 - val_loss: 1.6831 - val_acc: 0.8956\n",
      "Epoch 3/50\n",
      "4137/4137 [==============================] - 42s 10ms/step - loss: 1.3519 - acc: 0.9161 - val_loss: 1.6831 - val_acc: 0.8956\n",
      "Epoch 4/50\n",
      "4137/4137 [==============================] - 42s 10ms/step - loss: 1.3558 - acc: 0.9159 - val_loss: 1.6831 - val_acc: 0.8956\n",
      "Epoch 5/50\n",
      "4137/4137 [==============================] - 42s 10ms/step - loss: 1.3519 - acc: 0.9161 - val_loss: 1.6831 - val_acc: 0.8956\n",
      "Epoch 6/50\n",
      "4137/4137 [==============================] - 42s 10ms/step - loss: 1.3519 - acc: 0.9161 - val_loss: 1.6831 - val_acc: 0.8956\n",
      "Epoch 7/50\n",
      "4137/4137 [==============================] - 42s 10ms/step - loss: 1.3519 - acc: 0.9161 - val_loss: 1.6831 - val_acc: 0.8956\n",
      "Epoch 8/50\n",
      "4137/4137 [==============================] - 43s 10ms/step - loss: 1.3519 - acc: 0.9161 - val_loss: 1.6831 - val_acc: 0.8956\n",
      "Epoch 9/50\n",
      "4137/4137 [==============================] - 42s 10ms/step - loss: 1.3519 - acc: 0.9161 - val_loss: 1.6831 - val_acc: 0.8956\n",
      "Epoch 10/50\n",
      "4137/4137 [==============================] - 42s 10ms/step - loss: 1.3519 - acc: 0.9161 - val_loss: 1.6831 - val_acc: 0.8956\n",
      "Epoch 11/50\n",
      "4137/4137 [==============================] - 42s 10ms/step - loss: 1.3558 - acc: 0.9159 - val_loss: 1.6831 - val_acc: 0.8956\n",
      "Epoch 12/50\n",
      "4137/4137 [==============================] - 42s 10ms/step - loss: 1.3519 - acc: 0.9161 - val_loss: 1.6831 - val_acc: 0.8956\n",
      "Epoch 13/50\n",
      "4137/4137 [==============================] - 42s 10ms/step - loss: 1.3519 - acc: 0.9161 - val_loss: 1.6831 - val_acc: 0.8956\n",
      "Epoch 14/50\n",
      "4137/4137 [==============================] - 42s 10ms/step - loss: 1.3519 - acc: 0.9161 - val_loss: 1.6831 - val_acc: 0.8956\n",
      "Epoch 15/50\n",
      "4137/4137 [==============================] - 42s 10ms/step - loss: 1.3519 - acc: 0.9161 - val_loss: 1.6831 - val_acc: 0.8956\n",
      "Epoch 16/50\n",
      "4137/4137 [==============================] - 42s 10ms/step - loss: 1.3519 - acc: 0.9161 - val_loss: 1.6831 - val_acc: 0.8956\n",
      "Epoch 17/50\n",
      "4137/4137 [==============================] - 43s 10ms/step - loss: 1.3519 - acc: 0.9161 - val_loss: 1.6831 - val_acc: 0.8956\n",
      "Epoch 18/50\n",
      "4137/4137 [==============================] - 42s 10ms/step - loss: 1.3519 - acc: 0.9161 - val_loss: 1.6831 - val_acc: 0.8956\n",
      "Epoch 19/50\n",
      "4137/4137 [==============================] - 42s 10ms/step - loss: 1.3519 - acc: 0.9161 - val_loss: 1.6831 - val_acc: 0.8956\n",
      "Epoch 20/50\n",
      "4137/4137 [==============================] - 43s 10ms/step - loss: 1.3519 - acc: 0.9161 - val_loss: 1.6831 - val_acc: 0.8956\n",
      "Epoch 21/50\n",
      "4137/4137 [==============================] - 42s 10ms/step - loss: 1.3519 - acc: 0.9161 - val_loss: 1.6831 - val_acc: 0.8956\n",
      "Epoch 22/50\n",
      "4137/4137 [==============================] - 42s 10ms/step - loss: 1.3519 - acc: 0.9161 - val_loss: 1.6831 - val_acc: 0.8956\n",
      "Epoch 23/50\n",
      "4137/4137 [==============================] - 44s 11ms/step - loss: 1.3519 - acc: 0.9161 - val_loss: 1.6831 - val_acc: 0.8956\n",
      "Epoch 24/50\n",
      "4137/4137 [==============================] - 43s 10ms/step - loss: 1.3519 - acc: 0.9161 - val_loss: 1.6831 - val_acc: 0.8956\n",
      "Epoch 25/50\n",
      "4137/4137 [==============================] - 42s 10ms/step - loss: 1.3519 - acc: 0.9161 - val_loss: 1.6831 - val_acc: 0.8956\n",
      "Epoch 26/50\n",
      "4137/4137 [==============================] - 42s 10ms/step - loss: 1.3519 - acc: 0.9161 - val_loss: 1.6831 - val_acc: 0.8956\n",
      "Epoch 27/50\n",
      "4137/4137 [==============================] - 42s 10ms/step - loss: 1.3519 - acc: 0.9161 - val_loss: 1.6831 - val_acc: 0.8956\n",
      "Epoch 28/50\n",
      "4137/4137 [==============================] - 43s 10ms/step - loss: 1.3519 - acc: 0.9161 - val_loss: 1.6831 - val_acc: 0.8956\n",
      "Epoch 29/50\n",
      "4137/4137 [==============================] - 42s 10ms/step - loss: 1.3519 - acc: 0.9161 - val_loss: 1.6831 - val_acc: 0.8956\n",
      "Epoch 30/50\n",
      "4137/4137 [==============================] - 42s 10ms/step - loss: 1.3519 - acc: 0.9161 - val_loss: 1.6831 - val_acc: 0.8956\n",
      "Epoch 31/50\n",
      "4137/4137 [==============================] - 42s 10ms/step - loss: 1.3519 - acc: 0.9161 - val_loss: 1.6831 - val_acc: 0.8956\n",
      "Epoch 32/50\n",
      "4137/4137 [==============================] - 42s 10ms/step - loss: 1.3519 - acc: 0.9161 - val_loss: 1.6831 - val_acc: 0.8956\n",
      "Epoch 33/50\n",
      "4137/4137 [==============================] - 43s 10ms/step - loss: 1.3519 - acc: 0.9161 - val_loss: 1.6831 - val_acc: 0.8956\n",
      "Epoch 34/50\n",
      "4137/4137 [==============================] - 43s 10ms/step - loss: 1.3519 - acc: 0.9161 - val_loss: 1.6831 - val_acc: 0.8956\n",
      "Epoch 35/50\n",
      "4137/4137 [==============================] - 42s 10ms/step - loss: 1.3519 - acc: 0.9161 - val_loss: 1.6831 - val_acc: 0.8956\n",
      "Epoch 36/50\n",
      "4137/4137 [==============================] - 42s 10ms/step - loss: 1.3519 - acc: 0.9161 - val_loss: 1.6831 - val_acc: 0.8956\n",
      "Epoch 37/50\n",
      "4137/4137 [==============================] - 43s 10ms/step - loss: 1.3519 - acc: 0.9161 - val_loss: 1.6831 - val_acc: 0.8956\n",
      "Epoch 38/50\n",
      "4137/4137 [==============================] - 44s 11ms/step - loss: 1.3519 - acc: 0.9161 - val_loss: 1.6831 - val_acc: 0.8956\n",
      "Epoch 39/50\n",
      "4137/4137 [==============================] - 44s 11ms/step - loss: 1.3519 - acc: 0.9161 - val_loss: 1.6831 - val_acc: 0.8956\n",
      "Epoch 40/50\n",
      "4137/4137 [==============================] - 43s 10ms/step - loss: 1.3519 - acc: 0.9161 - val_loss: 1.6831 - val_acc: 0.8956\n",
      "Epoch 41/50\n",
      "4137/4137 [==============================] - 44s 11ms/step - loss: 1.3519 - acc: 0.9161 - val_loss: 1.6831 - val_acc: 0.8956\n",
      "Epoch 42/50\n",
      "4137/4137 [==============================] - 44s 11ms/step - loss: 1.3519 - acc: 0.9161 - val_loss: 1.6831 - val_acc: 0.8956\n",
      "Epoch 43/50\n",
      "4137/4137 [==============================] - 43s 10ms/step - loss: 1.3519 - acc: 0.9161 - val_loss: 1.6831 - val_acc: 0.8956\n",
      "Epoch 44/50\n",
      "4137/4137 [==============================] - 43s 10ms/step - loss: 1.3519 - acc: 0.9161 - val_loss: 1.6831 - val_acc: 0.8956\n",
      "Epoch 45/50\n",
      "4137/4137 [==============================] - 43s 10ms/step - loss: 1.3519 - acc: 0.9161 - val_loss: 1.6831 - val_acc: 0.8956\n",
      "Epoch 46/50\n",
      "4137/4137 [==============================] - 43s 10ms/step - loss: 1.3519 - acc: 0.9161 - val_loss: 1.6831 - val_acc: 0.8956\n",
      "Epoch 47/50\n",
      "4137/4137 [==============================] - 43s 10ms/step - loss: 1.3519 - acc: 0.9161 - val_loss: 1.6831 - val_acc: 0.8956\n",
      "Epoch 48/50\n",
      "4137/4137 [==============================] - 42s 10ms/step - loss: 1.3519 - acc: 0.9161 - val_loss: 1.6831 - val_acc: 0.8956\n",
      "Epoch 49/50\n",
      "4137/4137 [==============================] - 42s 10ms/step - loss: 1.3519 - acc: 0.9161 - val_loss: 1.6831 - val_acc: 0.8956\n",
      "Epoch 50/50\n",
      "4137/4137 [==============================] - 43s 10ms/step - loss: 1.3519 - acc: 0.9161 - val_loss: 1.6831 - val_acc: 0.8956\n"
     ]
    },
    {
     "data": {
      "text/plain": [
       "<keras.callbacks.History at 0x7fb5b9151160>"
      ]
     },
     "execution_count": 123,
     "metadata": {},
     "output_type": "execute_result"
    }
   ],
   "source": [
    "prova.fit(trainX, trainY, validation_data=(testX, testY),shuffle=True, epochs=50, batch_size=25, verbose=1)"
   ]
  },
  {
   "cell_type": "code",
   "execution_count": 202,
   "metadata": {
    "scrolled": true
   },
   "outputs": [
    {
     "name": "stdout",
     "output_type": "stream",
     "text": [
      "[INFO] compiling model...\n",
      "[INFO] training network...\n",
      "Epoch 1/150\n",
      "202/202 [==============================] - 101s 499ms/step - loss: 4.2571 - acc: 0.7317 - val_loss: 4.3960 - val_acc: 0.7258\n",
      "Epoch 2/150\n",
      "202/202 [==============================] - 96s 478ms/step - loss: 4.2926 - acc: 0.7322 - val_loss: 4.3960 - val_acc: 0.7258\n",
      "Epoch 3/150\n",
      "202/202 [==============================] - 97s 479ms/step - loss: 4.2730 - acc: 0.7334 - val_loss: 4.3960 - val_acc: 0.7258\n",
      "Epoch 4/150\n",
      "202/202 [==============================] - 97s 480ms/step - loss: 4.2925 - acc: 0.7322 - val_loss: 4.3960 - val_acc: 0.7258\n",
      "Epoch 5/150\n",
      "202/202 [==============================] - 97s 479ms/step - loss: 4.3118 - acc: 0.7310 - val_loss: 4.3960 - val_acc: 0.7258\n",
      "Epoch 6/150\n",
      "202/202 [==============================] - 97s 480ms/step - loss: 4.2349 - acc: 0.7358 - val_loss: 4.3960 - val_acc: 0.7258\n",
      "Epoch 7/150\n",
      "202/202 [==============================] - 97s 479ms/step - loss: 4.2923 - acc: 0.7322 - val_loss: 4.3960 - val_acc: 0.7258\n",
      "Epoch 8/150\n",
      "202/202 [==============================] - 97s 479ms/step - loss: 4.3054 - acc: 0.7314 - val_loss: 4.3960 - val_acc: 0.7258\n",
      "Epoch 9/150\n",
      "202/202 [==============================] - 97s 479ms/step - loss: 4.2831 - acc: 0.7328 - val_loss: 4.3960 - val_acc: 0.7258\n",
      "Epoch 10/150\n",
      "202/202 [==============================] - 97s 480ms/step - loss: 4.2988 - acc: 0.7318 - val_loss: 4.3960 - val_acc: 0.7258\n",
      "Epoch 11/150\n",
      "202/202 [==============================] - 97s 479ms/step - loss: 4.2894 - acc: 0.7324 - val_loss: 4.3960 - val_acc: 0.7258\n",
      "Epoch 12/150\n",
      "202/202 [==============================] - 97s 479ms/step - loss: 4.2323 - acc: 0.7360 - val_loss: 4.3960 - val_acc: 0.7258\n",
      "Epoch 13/150\n",
      "202/202 [==============================] - 97s 479ms/step - loss: 4.3024 - acc: 0.7316 - val_loss: 4.3960 - val_acc: 0.7258\n",
      "Epoch 14/150\n",
      "202/202 [==============================] - 97s 479ms/step - loss: 4.2987 - acc: 0.7318 - val_loss: 4.3960 - val_acc: 0.7258\n",
      "Epoch 15/150\n",
      "202/202 [==============================] - 97s 479ms/step - loss: 4.2669 - acc: 0.7338 - val_loss: 4.3960 - val_acc: 0.7258\n",
      "Epoch 16/150\n",
      "202/202 [==============================] - 97s 478ms/step - loss: 4.3562 - acc: 0.7283 - val_loss: 4.3960 - val_acc: 0.7258\n",
      "Epoch 17/150\n",
      "202/202 [==============================] - 97s 478ms/step - loss: 4.2040 - acc: 0.7377 - val_loss: 4.3960 - val_acc: 0.7258\n",
      "Epoch 18/150\n",
      "202/202 [==============================] - 97s 479ms/step - loss: 4.3305 - acc: 0.7299 - val_loss: 4.3960 - val_acc: 0.7258\n",
      "Epoch 19/150\n",
      "202/202 [==============================] - 97s 478ms/step - loss: 4.2606 - acc: 0.7342 - val_loss: 4.3960 - val_acc: 0.7258\n",
      "Epoch 20/150\n",
      "202/202 [==============================] - 97s 478ms/step - loss: 4.2575 - acc: 0.7344 - val_loss: 4.3960 - val_acc: 0.7258\n",
      "Epoch 21/150\n",
      "202/202 [==============================] - 97s 478ms/step - loss: 4.2733 - acc: 0.7334 - val_loss: 4.3960 - val_acc: 0.7258\n",
      "Epoch 22/150\n",
      "202/202 [==============================] - 97s 479ms/step - loss: 4.2542 - acc: 0.7346 - val_loss: 4.3960 - val_acc: 0.7258\n",
      "Epoch 23/150\n",
      "202/202 [==============================] - 97s 478ms/step - loss: 4.3783 - acc: 0.7269 - val_loss: 4.3960 - val_acc: 0.7258\n",
      "Epoch 24/150\n",
      "202/202 [==============================] - 97s 479ms/step - loss: 4.2509 - acc: 0.7348 - val_loss: 4.3960 - val_acc: 0.7258\n",
      "Epoch 25/150\n",
      "202/202 [==============================] - 97s 478ms/step - loss: 4.3177 - acc: 0.7307 - val_loss: 4.3960 - val_acc: 0.7258\n",
      "Epoch 26/150\n",
      "202/202 [==============================] - 96s 476ms/step - loss: 4.3082 - acc: 0.7312 - val_loss: 4.3960 - val_acc: 0.7258\n",
      "Epoch 27/150\n",
      "202/202 [==============================] - 97s 478ms/step - loss: 4.2257 - acc: 0.7364 - val_loss: 4.3960 - val_acc: 0.7258\n",
      "Epoch 28/150\n",
      "202/202 [==============================] - 97s 479ms/step - loss: 4.2735 - acc: 0.7334 - val_loss: 4.3960 - val_acc: 0.7258\n",
      "Epoch 29/150\n",
      "202/202 [==============================] - 96s 477ms/step - loss: 4.2353 - acc: 0.7358 - val_loss: 4.3960 - val_acc: 0.7258\n",
      "Epoch 30/150\n",
      "202/202 [==============================] - 97s 478ms/step - loss: 4.3312 - acc: 0.7298 - val_loss: 4.3960 - val_acc: 0.7258\n",
      "Epoch 31/150\n",
      "202/202 [==============================] - 97s 479ms/step - loss: 4.2390 - acc: 0.7356 - val_loss: 4.3960 - val_acc: 0.7258\n",
      "Epoch 32/150\n",
      "202/202 [==============================] - 97s 479ms/step - loss: 4.2989 - acc: 0.7318 - val_loss: 4.3960 - val_acc: 0.7258\n",
      "Epoch 33/150\n",
      "202/202 [==============================] - 97s 479ms/step - loss: 4.3305 - acc: 0.7299 - val_loss: 4.3960 - val_acc: 0.7258\n",
      "Epoch 34/150\n",
      "202/202 [==============================] - 96s 477ms/step - loss: 4.1687 - acc: 0.7400 - val_loss: 4.3960 - val_acc: 0.7258\n",
      "Epoch 35/150\n",
      "202/202 [==============================] - 97s 478ms/step - loss: 4.4006 - acc: 0.7255 - val_loss: 4.3960 - val_acc: 0.7258\n",
      "Epoch 36/150\n",
      "202/202 [==============================] - 97s 479ms/step - loss: 4.3021 - acc: 0.7316 - val_loss: 4.3960 - val_acc: 0.7258\n",
      "Epoch 37/150\n",
      "202/202 [==============================] - 97s 479ms/step - loss: 4.3366 - acc: 0.7295 - val_loss: 4.3960 - val_acc: 0.7258\n",
      "Epoch 38/150\n",
      "202/202 [==============================] - 97s 479ms/step - loss: 4.2032 - acc: 0.7378 - val_loss: 4.3960 - val_acc: 0.7258\n",
      "Epoch 39/150\n",
      "202/202 [==============================] - 97s 479ms/step - loss: 4.2608 - acc: 0.7342 - val_loss: 4.3960 - val_acc: 0.7258\n",
      "Epoch 40/150\n",
      "202/202 [==============================] - 97s 478ms/step - loss: 4.3274 - acc: 0.7300 - val_loss: 4.3960 - val_acc: 0.7258\n",
      "Epoch 41/150\n",
      "202/202 [==============================] - 97s 480ms/step - loss: 4.2763 - acc: 0.7332 - val_loss: 4.3960 - val_acc: 0.7258\n",
      "Epoch 42/150\n",
      "202/202 [==============================] - 97s 480ms/step - loss: 4.2422 - acc: 0.7354 - val_loss: 4.3960 - val_acc: 0.7258\n",
      "Epoch 43/150\n",
      "202/202 [==============================] - 97s 479ms/step - loss: 4.3524 - acc: 0.7285 - val_loss: 4.3960 - val_acc: 0.7258\n",
      "Epoch 44/150\n",
      "202/202 [==============================] - 97s 479ms/step - loss: 4.2381 - acc: 0.7356 - val_loss: 4.3960 - val_acc: 0.7258\n",
      "Epoch 45/150\n",
      "202/202 [==============================] - 97s 478ms/step - loss: 4.3373 - acc: 0.7294 - val_loss: 4.3960 - val_acc: 0.7258\n",
      "Epoch 46/150\n",
      "202/202 [==============================] - 97s 479ms/step - loss: 4.2384 - acc: 0.7356 - val_loss: 4.3960 - val_acc: 0.7258\n",
      "Epoch 47/150\n",
      "202/202 [==============================] - 97s 479ms/step - loss: 4.2511 - acc: 0.7348 - val_loss: 4.3960 - val_acc: 0.7258\n",
      "Epoch 48/150\n",
      "202/202 [==============================] - 97s 479ms/step - loss: 4.3562 - acc: 0.7283 - val_loss: 4.3960 - val_acc: 0.7258\n",
      "Epoch 49/150\n",
      "202/202 [==============================] - 97s 479ms/step - loss: 4.1655 - acc: 0.7401 - val_loss: 4.3960 - val_acc: 0.7258\n",
      "Epoch 50/150\n",
      "202/202 [==============================] - 97s 480ms/step - loss: 4.3438 - acc: 0.7290 - val_loss: 4.3960 - val_acc: 0.7258\n",
      "Epoch 51/150\n",
      "202/202 [==============================] - 97s 479ms/step - loss: 4.2507 - acc: 0.7348 - val_loss: 4.3960 - val_acc: 0.7258\n",
      "Epoch 52/150\n",
      "202/202 [==============================] - 97s 479ms/step - loss: 4.2386 - acc: 0.7356 - val_loss: 4.3960 - val_acc: 0.7258\n",
      "Epoch 53/150\n",
      "202/202 [==============================] - 97s 479ms/step - loss: 4.3366 - acc: 0.7295 - val_loss: 4.3960 - val_acc: 0.7258\n",
      "Epoch 54/150\n",
      "202/202 [==============================] - 97s 479ms/step - loss: 4.4227 - acc: 0.7241 - val_loss: 4.3960 - val_acc: 0.7258\n",
      "Epoch 55/150\n",
      "202/202 [==============================] - 97s 480ms/step - loss: 4.1907 - acc: 0.7386 - val_loss: 4.3960 - val_acc: 0.7258\n",
      "Epoch 56/150\n",
      "202/202 [==============================] - 97s 479ms/step - loss: 4.3312 - acc: 0.7298 - val_loss: 4.3960 - val_acc: 0.7258\n",
      "Epoch 57/150\n",
      "202/202 [==============================] - 97s 479ms/step - loss: 4.2262 - acc: 0.7364 - val_loss: 4.3960 - val_acc: 0.7258\n",
      "Epoch 58/150\n",
      "202/202 [==============================] - 97s 479ms/step - loss: 4.3305 - acc: 0.7299 - val_loss: 4.3960 - val_acc: 0.7258\n",
      "Epoch 59/150\n",
      "202/202 [==============================] - 97s 480ms/step - loss: 4.3180 - acc: 0.7306 - val_loss: 4.3960 - val_acc: 0.7258\n",
      "Epoch 60/150\n"
     ]
    },
    {
     "name": "stdout",
     "output_type": "stream",
     "text": [
      "202/202 [==============================] - 97s 478ms/step - loss: 4.2069 - acc: 0.7376 - val_loss: 4.3960 - val_acc: 0.7258\n",
      "Epoch 61/150\n",
      "202/202 [==============================] - 97s 478ms/step - loss: 4.2259 - acc: 0.7364 - val_loss: 4.3960 - val_acc: 0.7258\n",
      "Epoch 62/150\n",
      "202/202 [==============================] - 97s 479ms/step - loss: 4.3590 - acc: 0.7281 - val_loss: 4.3960 - val_acc: 0.7258\n",
      "Epoch 63/150\n",
      "202/202 [==============================] - 97s 478ms/step - loss: 4.2573 - acc: 0.7344 - val_loss: 4.3960 - val_acc: 0.7258\n",
      "Epoch 64/150\n",
      "202/202 [==============================] - 97s 478ms/step - loss: 4.2578 - acc: 0.7344 - val_loss: 4.3960 - val_acc: 0.7258\n",
      "Epoch 65/150\n",
      "202/202 [==============================] - 97s 478ms/step - loss: 4.3746 - acc: 0.7271 - val_loss: 4.3960 - val_acc: 0.7258\n",
      "Epoch 66/150\n",
      "202/202 [==============================] - 96s 478ms/step - loss: 4.1591 - acc: 0.7405 - val_loss: 4.3960 - val_acc: 0.7258\n",
      "Epoch 67/150\n",
      "202/202 [==============================] - 97s 480ms/step - loss: 4.3339 - acc: 0.7296 - val_loss: 4.3960 - val_acc: 0.7258\n",
      "Epoch 68/150\n",
      "202/202 [==============================] - 97s 478ms/step - loss: 4.3308 - acc: 0.7298 - val_loss: 4.3960 - val_acc: 0.7258\n",
      "Epoch 69/150\n",
      "202/202 [==============================] - 97s 478ms/step - loss: 4.3210 - acc: 0.7304 - val_loss: 4.3960 - val_acc: 0.7258\n",
      "Epoch 70/150\n",
      "202/202 [==============================] - 97s 478ms/step - loss: 4.1405 - acc: 0.7417 - val_loss: 4.3960 - val_acc: 0.7258\n",
      "Epoch 71/150\n",
      "202/202 [==============================] - 97s 478ms/step - loss: 4.3721 - acc: 0.7273 - val_loss: 4.3960 - val_acc: 0.7258\n",
      "Epoch 72/150\n",
      "202/202 [==============================] - 96s 478ms/step - loss: 4.3021 - acc: 0.7316 - val_loss: 4.3960 - val_acc: 0.7258\n",
      "Epoch 73/150\n",
      "202/202 [==============================] - 96s 477ms/step - loss: 4.2446 - acc: 0.7352 - val_loss: 4.3960 - val_acc: 0.7258\n",
      "Epoch 74/150\n",
      "202/202 [==============================] - 97s 479ms/step - loss: 4.2955 - acc: 0.7320 - val_loss: 4.3960 - val_acc: 0.7258\n",
      "Epoch 75/150\n",
      "202/202 [==============================] - 97s 478ms/step - loss: 4.2862 - acc: 0.7326 - val_loss: 4.3960 - val_acc: 0.7258\n",
      "Epoch 76/150\n",
      "202/202 [==============================] - 97s 478ms/step - loss: 4.2893 - acc: 0.7324 - val_loss: 4.3960 - val_acc: 0.7258\n",
      "Epoch 77/150\n",
      "202/202 [==============================] - 97s 478ms/step - loss: 4.3147 - acc: 0.7308 - val_loss: 4.3960 - val_acc: 0.7258\n",
      "Epoch 78/150\n",
      "202/202 [==============================] - 96s 477ms/step - loss: 4.2257 - acc: 0.7364 - val_loss: 4.3960 - val_acc: 0.7258\n",
      "Epoch 79/150\n",
      "202/202 [==============================] - 97s 479ms/step - loss: 4.3089 - acc: 0.7312 - val_loss: 4.3960 - val_acc: 0.7258\n",
      "Epoch 80/150\n",
      "202/202 [==============================] - 97s 479ms/step - loss: 4.3148 - acc: 0.7308 - val_loss: 4.3960 - val_acc: 0.7258\n",
      "Epoch 81/150\n",
      "202/202 [==============================] - 97s 478ms/step - loss: 4.3276 - acc: 0.7300 - val_loss: 4.3960 - val_acc: 0.7258\n",
      "Epoch 82/150\n",
      "202/202 [==============================] - 97s 478ms/step - loss: 4.2168 - acc: 0.7369 - val_loss: 4.3960 - val_acc: 0.7258\n",
      "Epoch 83/150\n",
      "202/202 [==============================] - 97s 478ms/step - loss: 4.2926 - acc: 0.7322 - val_loss: 4.3960 - val_acc: 0.7258\n",
      "Epoch 84/150\n",
      "202/202 [==============================] - 97s 478ms/step - loss: 4.2700 - acc: 0.7336 - val_loss: 4.3960 - val_acc: 0.7258\n",
      "Epoch 85/150\n",
      "202/202 [==============================] - 97s 479ms/step - loss: 4.2828 - acc: 0.7328 - val_loss: 4.3960 - val_acc: 0.7258\n",
      "Epoch 86/150\n",
      "202/202 [==============================] - 97s 478ms/step - loss: 4.2827 - acc: 0.7328 - val_loss: 4.3960 - val_acc: 0.7258\n",
      "Epoch 87/150\n",
      "202/202 [==============================] - 97s 479ms/step - loss: 4.2702 - acc: 0.7336 - val_loss: 4.3960 - val_acc: 0.7258\n",
      "Epoch 88/150\n",
      "202/202 [==============================] - 96s 478ms/step - loss: 4.3819 - acc: 0.7267 - val_loss: 4.3960 - val_acc: 0.7258\n",
      "Epoch 89/150\n",
      "202/202 [==============================] - 97s 479ms/step - loss: 4.1906 - acc: 0.7386 - val_loss: 4.3960 - val_acc: 0.7258\n",
      "Epoch 90/150\n",
      "202/202 [==============================] - 97s 479ms/step - loss: 4.3336 - acc: 0.7297 - val_loss: 4.3960 - val_acc: 0.7258\n",
      "Epoch 91/150\n",
      "202/202 [==============================] - 97s 478ms/step - loss: 4.1746 - acc: 0.7396 - val_loss: 4.3960 - val_acc: 0.7258\n",
      "Epoch 92/150\n",
      "202/202 [==============================] - 97s 478ms/step - loss: 4.3883 - acc: 0.7262 - val_loss: 4.3960 - val_acc: 0.7258\n",
      "Epoch 93/150\n",
      "202/202 [==============================] - 97s 480ms/step - loss: 4.2889 - acc: 0.7325 - val_loss: 4.3960 - val_acc: 0.7258\n",
      "Epoch 94/150\n",
      "202/202 [==============================] - 97s 480ms/step - loss: 4.2483 - acc: 0.7350 - val_loss: 4.3960 - val_acc: 0.7258\n",
      "Epoch 95/150\n",
      "202/202 [==============================] - 97s 479ms/step - loss: 4.3620 - acc: 0.7279 - val_loss: 4.3960 - val_acc: 0.7258\n",
      "Epoch 96/150\n",
      "202/202 [==============================] - 97s 478ms/step - loss: 4.1618 - acc: 0.7404 - val_loss: 4.3960 - val_acc: 0.7258\n",
      "Epoch 97/150\n",
      "202/202 [==============================] - 97s 479ms/step - loss: 4.2798 - acc: 0.7330 - val_loss: 4.3960 - val_acc: 0.7258\n",
      "Epoch 98/150\n",
      "202/202 [==============================] - 97s 479ms/step - loss: 4.2070 - acc: 0.7376 - val_loss: 4.3960 - val_acc: 0.7258\n",
      "Epoch 99/150\n",
      "202/202 [==============================] - 97s 479ms/step - loss: 4.4446 - acc: 0.7227 - val_loss: 4.3960 - val_acc: 0.7258\n",
      "Epoch 100/150\n",
      "202/202 [==============================] - 97s 479ms/step - loss: 4.2448 - acc: 0.7352 - val_loss: 4.3960 - val_acc: 0.7258\n",
      "Epoch 101/150\n",
      "202/202 [==============================] - 97s 479ms/step - loss: 4.2824 - acc: 0.7329 - val_loss: 4.3960 - val_acc: 0.7258\n",
      "Epoch 102/150\n",
      "202/202 [==============================] - 97s 480ms/step - loss: 4.3241 - acc: 0.7303 - val_loss: 4.3960 - val_acc: 0.7258\n",
      "Epoch 103/150\n",
      "202/202 [==============================] - 97s 480ms/step - loss: 4.3208 - acc: 0.7305 - val_loss: 4.3960 - val_acc: 0.7258\n",
      "Epoch 104/150\n",
      "202/202 [==============================] - 97s 480ms/step - loss: 4.1782 - acc: 0.7394 - val_loss: 4.3960 - val_acc: 0.7258\n",
      "Epoch 105/150\n",
      "202/202 [==============================] - 97s 480ms/step - loss: 4.3592 - acc: 0.7281 - val_loss: 4.3960 - val_acc: 0.7258\n",
      "Epoch 106/150\n",
      "202/202 [==============================] - 97s 479ms/step - loss: 4.2258 - acc: 0.7364 - val_loss: 4.3960 - val_acc: 0.7258\n",
      "Epoch 107/150\n",
      "202/202 [==============================] - 97s 481ms/step - loss: 4.2639 - acc: 0.7340 - val_loss: 4.3960 - val_acc: 0.7258\n",
      "Epoch 108/150\n",
      "202/202 [==============================] - 97s 481ms/step - loss: 4.3148 - acc: 0.7308 - val_loss: 4.3960 - val_acc: 0.7258\n",
      "Epoch 109/150\n",
      "202/202 [==============================] - 97s 478ms/step - loss: 4.3624 - acc: 0.7279 - val_loss: 4.3960 - val_acc: 0.7258\n",
      "Epoch 110/150\n",
      "202/202 [==============================] - 97s 481ms/step - loss: 4.2827 - acc: 0.7328 - val_loss: 4.3960 - val_acc: 0.7258\n",
      "Epoch 111/150\n",
      "202/202 [==============================] - 97s 479ms/step - loss: 4.1586 - acc: 0.7406 - val_loss: 4.3960 - val_acc: 0.7258\n",
      "Epoch 112/150\n",
      "202/202 [==============================] - 97s 481ms/step - loss: 4.2771 - acc: 0.7332 - val_loss: 4.3960 - val_acc: 0.7258\n",
      "Epoch 113/150\n",
      "202/202 [==============================] - 97s 481ms/step - loss: 4.3276 - acc: 0.7300 - val_loss: 4.3960 - val_acc: 0.7258\n",
      "Epoch 114/150\n",
      "202/202 [==============================] - 97s 481ms/step - loss: 4.3274 - acc: 0.7300 - val_loss: 4.3960 - val_acc: 0.7258\n",
      "Epoch 115/150\n",
      "202/202 [==============================] - 97s 481ms/step - loss: 4.2196 - acc: 0.7368 - val_loss: 4.3960 - val_acc: 0.7258\n",
      "Epoch 116/150\n",
      "202/202 [==============================] - 97s 481ms/step - loss: 4.3243 - acc: 0.7302 - val_loss: 4.3960 - val_acc: 0.7258\n",
      "Epoch 117/150\n",
      "202/202 [==============================] - 97s 480ms/step - loss: 4.2931 - acc: 0.7322 - val_loss: 4.3960 - val_acc: 0.7258\n",
      "Epoch 118/150\n",
      "202/202 [==============================] - 97s 481ms/step - loss: 4.2447 - acc: 0.7352 - val_loss: 4.3960 - val_acc: 0.7258\n",
      "Epoch 119/150\n",
      "202/202 [==============================] - 97s 481ms/step - loss: 4.3747 - acc: 0.7271 - val_loss: 4.3960 - val_acc: 0.7258\n"
     ]
    },
    {
     "name": "stdout",
     "output_type": "stream",
     "text": [
      "Epoch 120/150\n",
      "202/202 [==============================] - 97s 479ms/step - loss: 4.2134 - acc: 0.7372 - val_loss: 4.3960 - val_acc: 0.7258\n",
      "Epoch 121/150\n",
      "202/202 [==============================] - 97s 478ms/step - loss: 4.3304 - acc: 0.7299 - val_loss: 4.3960 - val_acc: 0.7258\n",
      "Epoch 122/150\n",
      "202/202 [==============================] - 97s 479ms/step - loss: 4.2575 - acc: 0.7344 - val_loss: 4.3960 - val_acc: 0.7258\n",
      "Epoch 123/150\n",
      "202/202 [==============================] - 97s 479ms/step - loss: 4.2381 - acc: 0.7356 - val_loss: 4.3960 - val_acc: 0.7258\n",
      "Epoch 124/150\n",
      "202/202 [==============================] - 97s 478ms/step - loss: 4.4350 - acc: 0.7233 - val_loss: 4.3960 - val_acc: 0.7258\n",
      "Epoch 125/150\n",
      "202/202 [==============================] - 97s 479ms/step - loss: 4.1048 - acc: 0.7439 - val_loss: 4.3960 - val_acc: 0.7258\n",
      "Epoch 126/150\n",
      "202/202 [==============================] - 97s 478ms/step - loss: 4.2991 - acc: 0.7318 - val_loss: 4.3960 - val_acc: 0.7258\n",
      "Epoch 127/150\n",
      "202/202 [==============================] - 97s 479ms/step - loss: 4.3911 - acc: 0.7261 - val_loss: 4.3960 - val_acc: 0.7258\n",
      "Epoch 128/150\n",
      "202/202 [==============================] - 98s 485ms/step - loss: 4.2163 - acc: 0.7370 - val_loss: 4.3960 - val_acc: 0.7258\n",
      "Epoch 129/150\n",
      "202/202 [==============================] - 97s 480ms/step - loss: 4.3333 - acc: 0.7297 - val_loss: 4.3960 - val_acc: 0.7258\n",
      "Epoch 130/150\n",
      "202/202 [==============================] - 97s 480ms/step - loss: 4.2991 - acc: 0.7318 - val_loss: 4.3960 - val_acc: 0.7258\n",
      "Epoch 131/150\n",
      "202/202 [==============================] - 97s 478ms/step - loss: 4.2097 - acc: 0.7374 - val_loss: 4.3960 - val_acc: 0.7258\n",
      "Epoch 132/150\n",
      "202/202 [==============================] - 97s 481ms/step - loss: 4.2894 - acc: 0.7324 - val_loss: 4.3960 - val_acc: 0.7258\n",
      "Epoch 133/150\n",
      "202/202 [==============================] - 97s 480ms/step - loss: 4.2643 - acc: 0.7340 - val_loss: 4.3960 - val_acc: 0.7258\n",
      "Epoch 134/150\n",
      "202/202 [==============================] - 97s 479ms/step - loss: 4.3590 - acc: 0.7281 - val_loss: 4.3960 - val_acc: 0.7258\n",
      "Epoch 135/150\n",
      "202/202 [==============================] - 97s 478ms/step - loss: 4.2288 - acc: 0.7362 - val_loss: 4.3960 - val_acc: 0.7258\n",
      "Epoch 136/150\n",
      "202/202 [==============================] - 97s 479ms/step - loss: 4.3465 - acc: 0.7289 - val_loss: 4.3960 - val_acc: 0.7258\n",
      "Epoch 137/150\n",
      "202/202 [==============================] - 97s 479ms/step - loss: 4.2644 - acc: 0.7340 - val_loss: 4.3960 - val_acc: 0.7258\n",
      "Epoch 138/150\n",
      "202/202 [==============================] - 97s 479ms/step - loss: 4.2164 - acc: 0.7370 - val_loss: 4.3960 - val_acc: 0.7258\n",
      "Epoch 139/150\n",
      "202/202 [==============================] - 97s 478ms/step - loss: 4.2767 - acc: 0.7332 - val_loss: 4.3960 - val_acc: 0.7258\n",
      "Epoch 140/150\n",
      "202/202 [==============================] - 97s 480ms/step - loss: 4.2480 - acc: 0.7350 - val_loss: 4.3960 - val_acc: 0.7258\n",
      "Epoch 141/150\n",
      "202/202 [==============================] - 97s 478ms/step - loss: 4.3079 - acc: 0.7313 - val_loss: 4.3960 - val_acc: 0.7258\n",
      "Epoch 142/150\n",
      "202/202 [==============================] - 97s 481ms/step - loss: 4.3653 - acc: 0.7277 - val_loss: 4.3960 - val_acc: 0.7258\n",
      "Epoch 143/150\n",
      "202/202 [==============================] - 97s 480ms/step - loss: 4.2803 - acc: 0.7330 - val_loss: 4.3960 - val_acc: 0.7258\n",
      "Epoch 144/150\n",
      "202/202 [==============================] - 97s 480ms/step - loss: 4.2419 - acc: 0.7354 - val_loss: 4.3960 - val_acc: 0.7258\n",
      "Epoch 145/150\n",
      "202/202 [==============================] - 97s 478ms/step - loss: 4.2985 - acc: 0.7318 - val_loss: 4.3960 - val_acc: 0.7258\n",
      "Epoch 146/150\n",
      "202/202 [==============================] - 97s 480ms/step - loss: 4.2668 - acc: 0.7338 - val_loss: 4.3960 - val_acc: 0.7258\n",
      "Epoch 147/150\n",
      "202/202 [==============================] - 97s 478ms/step - loss: 4.3435 - acc: 0.7290 - val_loss: 4.3960 - val_acc: 0.7258\n",
      "Epoch 148/150\n",
      "202/202 [==============================] - 97s 479ms/step - loss: 4.2354 - acc: 0.7358 - val_loss: 4.3960 - val_acc: 0.7258\n",
      "Epoch 149/150\n",
      "202/202 [==============================] - 97s 479ms/step - loss: 4.3876 - acc: 0.7263 - val_loss: 4.3960 - val_acc: 0.7258\n",
      "Epoch 150/150\n",
      "202/202 [==============================] - 97s 480ms/step - loss: 4.1971 - acc: 0.7382 - val_loss: 4.3960 - val_acc: 0.7258\n"
     ]
    }
   ],
   "source": [
    "from pyimagesearch.lenet import LeNet\n",
    "from keras.optimizers import Adam\n",
    "\n",
    "\n",
    "EPOCHS = 150\n",
    "INIT_LR = 1e-3\n",
    "BS = 25\n",
    "# construct the image generator for data augmentation\n",
    "aug = ImageDataGenerator(rotation_range=30, width_shift_range=0.1,height_shift_range=0.1, shear_range=0.2, zoom_range=0.2,horizontal_flip=True, fill_mode=\"nearest\")\n",
    "\n",
    "# initialize the model\n",
    "print(\"[INFO] compiling model...\")\n",
    "model = LeNet.build(width=128, height=128, depth=3, classes=2)\n",
    "opt = Adam(lr=INIT_LR, decay=INIT_LR / EPOCHS)\n",
    "model.compile(loss=\"binary_crossentropy\", optimizer=opt,metrics=[\"accuracy\"])\n",
    "\n",
    "# train the network\n",
    "print(\"[INFO] training network...\")\n",
    "H = model.fit_generator(aug.flow(trainX, trainY, batch_size=BS),validation_data=(testX, testY), steps_per_epoch=len(trainX) // BS,epochs=EPOCHS, verbose=1)\n",
    "\n"
   ]
  },
  {
   "cell_type": "code",
   "execution_count": 146,
   "metadata": {},
   "outputs": [
    {
     "name": "stdout",
     "output_type": "stream",
     "text": [
      "[INFO] serializing network...\n"
     ]
    }
   ],
   "source": [
    "# save the model to disk\n",
    "print(\"[INFO] serializing network...\")\n",
    "prova.save('ourNewModel128_128.model')\n"
   ]
  },
  {
   "cell_type": "code",
   "execution_count": 203,
   "metadata": {},
   "outputs": [],
   "source": [
    "hist = prova.history"
   ]
  },
  {
   "cell_type": "code",
   "execution_count": 204,
   "metadata": {},
   "outputs": [
    {
     "data": {
      "image/png": "[encoded data removed]",
      "text/plain": [
       "<Figure size 432x288 with 1 Axes>"
      ]
     },
     "metadata": {},
     "output_type": "display_data"
    }
   ],
   "source": [
    "# summarize history for accuracy\n",
    "plt.plot(hist.history['acc'])\n",
    "plt.plot(hist.history['val_acc'])\n",
    "plt.title('model accuracy')\n",
    "plt.ylabel('accuracy')\n",
    "plt.xlabel('epoch')\n",
    "plt.legend(['train', 'test'], loc='upper left')\n",
    "plt.show()"
   ]
  },
  {
   "cell_type": "code",
   "execution_count": 205,
   "metadata": {},
   "outputs": [
    {
     "data": {
      "image/png": "[encoded data removed]",
      "text/plain": [
       "<Figure size 432x288 with 1 Axes>"
      ]
     },
     "metadata": {},
     "output_type": "display_data"
    }
   ],
   "source": [
    "# summarize history for loss\n",
    "plt.plot(hist.history['loss'])\n",
    "plt.plot(hist.history['val_loss'])\n",
    "plt.title('model loss')\n",
    "plt.ylabel('loss')\n",
    "plt.xlabel('epoch')\n",
    "plt.legend(['train', 'test'], loc='upper left')\n",
    "plt.show()"
   ]
  },
  {
   "cell_type": "code",
   "execution_count": 136,
   "metadata": {},
   "outputs": [],
   "source": [
    "# pre-process the image for classification\n",
    "image = cv2.imread('/home/neuronelab/Desktop/FraudDetection_v2/NN/test_images/r2.jpg')### CHANGE PATH\n",
    "zimage = cv2.resize(image, (128, 128))\n",
    "image = zimage.astype(\"float\") / 255.0\n",
    "image = img_to_array(image)\n",
    "image = np.expand_dims(image, axis=0)\n",
    "#IMAGE LEGEND R = RAYBAN  , S=SUNGLASSES , W = PEOPLE WITH SUNGLASSES , N = NO SUNGLASSES"
   ]
  },
  {
   "cell_type": "code",
   "execution_count": 138,
   "metadata": {
    "collapsed": true
   },
   "outputs": [
    {
     "ename": "ValueError",
     "evalue": "Error when checking input: expected zero_padding2d_17_input to have 4 dimensions, but got array with shape (3, 128, 128)",
     "output_type": "error",
     "traceback": [
      "\u001b[0;31m---------------------------------------------------------------------------\u001b[0m",
      "\u001b[0;31mValueError\u001b[0m                                Traceback (most recent call last)",
      "\u001b[0;32m<ipython-input-138-4ee3fcb7976f>\u001b[0m in \u001b[0;36m<module>\u001b[0;34m()\u001b[0m\n\u001b[0;32m----> 1\u001b[0;31m (notSunglasses, sunglasses) = prova.predict(np.reshape(zimage , (3,128,128))\n\u001b[0m\u001b[1;32m      2\u001b[0m )[0]\n\u001b[1;32m      3\u001b[0m \u001b[0;31m# build the label\u001b[0m\u001b[0;34m\u001b[0m\u001b[0;34m\u001b[0m\u001b[0m\n\u001b[1;32m      4\u001b[0m \u001b[0mlabel\u001b[0m \u001b[0;34m=\u001b[0m \u001b[0;34m\"Ray-Ban\"\u001b[0m \u001b[0;32mif\u001b[0m \u001b[0msunglasses\u001b[0m \u001b[0;34m>\u001b[0m \u001b[0mnotSunglasses\u001b[0m \u001b[0;32melse\u001b[0m \u001b[0;34m\"Persol\"\u001b[0m\u001b[0;34m\u001b[0m\u001b[0m\n\u001b[1;32m      5\u001b[0m \u001b[0mproba\u001b[0m \u001b[0;34m=\u001b[0m \u001b[0msunglasses\u001b[0m \u001b[0;32mif\u001b[0m \u001b[0msunglasses\u001b[0m \u001b[0;34m>\u001b[0m \u001b[0mnotSunglasses\u001b[0m \u001b[0;32melse\u001b[0m \u001b[0mnotSunglasses\u001b[0m\u001b[0;34m\u001b[0m\u001b[0m\n",
      "\u001b[0;32m~/anaconda3/lib/python3.6/site-packages/keras/engine/training.py\u001b[0m in \u001b[0;36mpredict\u001b[0;34m(self, x, batch_size, verbose, steps)\u001b[0m\n\u001b[1;32m   1147\u001b[0m                              'argument.')\n\u001b[1;32m   1148\u001b[0m         \u001b[0;31m# Validate user data.\u001b[0m\u001b[0;34m\u001b[0m\u001b[0;34m\u001b[0m\u001b[0m\n\u001b[0;32m-> 1149\u001b[0;31m         \u001b[0mx\u001b[0m\u001b[0;34m,\u001b[0m \u001b[0m_\u001b[0m\u001b[0;34m,\u001b[0m \u001b[0m_\u001b[0m \u001b[0;34m=\u001b[0m \u001b[0mself\u001b[0m\u001b[0;34m.\u001b[0m\u001b[0m_standardize_user_data\u001b[0m\u001b[0;34m(\u001b[0m\u001b[0mx\u001b[0m\u001b[0;34m)\u001b[0m\u001b[0;34m\u001b[0m\u001b[0m\n\u001b[0m\u001b[1;32m   1150\u001b[0m         \u001b[0;32mif\u001b[0m \u001b[0mself\u001b[0m\u001b[0;34m.\u001b[0m\u001b[0mstateful\u001b[0m\u001b[0;34m:\u001b[0m\u001b[0;34m\u001b[0m\u001b[0m\n\u001b[1;32m   1151\u001b[0m             \u001b[0;32mif\u001b[0m \u001b[0mx\u001b[0m\u001b[0;34m[\u001b[0m\u001b[0;36m0\u001b[0m\u001b[0;34m]\u001b[0m\u001b[0;34m.\u001b[0m\u001b[0mshape\u001b[0m\u001b[0;34m[\u001b[0m\u001b[0;36m0\u001b[0m\u001b[0;34m]\u001b[0m \u001b[0;34m>\u001b[0m \u001b[0mbatch_size\u001b[0m \u001b[0;32mand\u001b[0m \u001b[0mx\u001b[0m\u001b[0;34m[\u001b[0m\u001b[0;36m0\u001b[0m\u001b[0;34m]\u001b[0m\u001b[0;34m.\u001b[0m\u001b[0mshape\u001b[0m\u001b[0;34m[\u001b[0m\u001b[0;36m0\u001b[0m\u001b[0;34m]\u001b[0m \u001b[0;34m%\u001b[0m \u001b[0mbatch_size\u001b[0m \u001b[0;34m!=\u001b[0m \u001b[0;36m0\u001b[0m\u001b[0;34m:\u001b[0m\u001b[0;34m\u001b[0m\u001b[0m\n",
      "\u001b[0;32m~/anaconda3/lib/python3.6/site-packages/keras/engine/training.py\u001b[0m in \u001b[0;36m_standardize_user_data\u001b[0;34m(self, x, y, sample_weight, class_weight, check_array_lengths, batch_size)\u001b[0m\n\u001b[1;32m    749\u001b[0m             \u001b[0mfeed_input_shapes\u001b[0m\u001b[0;34m,\u001b[0m\u001b[0;34m\u001b[0m\u001b[0m\n\u001b[1;32m    750\u001b[0m             \u001b[0mcheck_batch_axis\u001b[0m\u001b[0;34m=\u001b[0m\u001b[0;32mFalse\u001b[0m\u001b[0;34m,\u001b[0m  \u001b[0;31m# Don't enforce the batch size.\u001b[0m\u001b[0;34m\u001b[0m\u001b[0m\n\u001b[0;32m--> 751\u001b[0;31m             exception_prefix='input')\n\u001b[0m\u001b[1;32m    752\u001b[0m \u001b[0;34m\u001b[0m\u001b[0m\n\u001b[1;32m    753\u001b[0m         \u001b[0;32mif\u001b[0m \u001b[0my\u001b[0m \u001b[0;32mis\u001b[0m \u001b[0;32mnot\u001b[0m \u001b[0;32mNone\u001b[0m\u001b[0;34m:\u001b[0m\u001b[0;34m\u001b[0m\u001b[0m\n",
      "\u001b[0;32m~/anaconda3/lib/python3.6/site-packages/keras/engine/training_utils.py\u001b[0m in \u001b[0;36mstandardize_input_data\u001b[0;34m(data, names, shapes, check_batch_axis, exception_prefix)\u001b[0m\n\u001b[1;32m    126\u001b[0m                         \u001b[0;34m': expected '\u001b[0m \u001b[0;34m+\u001b[0m \u001b[0mnames\u001b[0m\u001b[0;34m[\u001b[0m\u001b[0mi\u001b[0m\u001b[0;34m]\u001b[0m \u001b[0;34m+\u001b[0m \u001b[0;34m' to have '\u001b[0m \u001b[0;34m+\u001b[0m\u001b[0;34m\u001b[0m\u001b[0m\n\u001b[1;32m    127\u001b[0m                         \u001b[0mstr\u001b[0m\u001b[0;34m(\u001b[0m\u001b[0mlen\u001b[0m\u001b[0;34m(\u001b[0m\u001b[0mshape\u001b[0m\u001b[0;34m)\u001b[0m\u001b[0;34m)\u001b[0m \u001b[0;34m+\u001b[0m \u001b[0;34m' dimensions, but got array '\u001b[0m\u001b[0;34m\u001b[0m\u001b[0m\n\u001b[0;32m--> 128\u001b[0;31m                         'with shape ' + str(data_shape))\n\u001b[0m\u001b[1;32m    129\u001b[0m                 \u001b[0;32mif\u001b[0m \u001b[0;32mnot\u001b[0m \u001b[0mcheck_batch_axis\u001b[0m\u001b[0;34m:\u001b[0m\u001b[0;34m\u001b[0m\u001b[0m\n\u001b[1;32m    130\u001b[0m                     \u001b[0mdata_shape\u001b[0m \u001b[0;34m=\u001b[0m \u001b[0mdata_shape\u001b[0m\u001b[0;34m[\u001b[0m\u001b[0;36m1\u001b[0m\u001b[0;34m:\u001b[0m\u001b[0;34m]\u001b[0m\u001b[0;34m\u001b[0m\u001b[0m\n",
      "\u001b[0;31mValueError\u001b[0m: Error when checking input: expected zero_padding2d_17_input to have 4 dimensions, but got array with shape (3, 128, 128)"
     ]
    }
   ],
   "source": [
    "(notSunglasses, sunglasses) = prova.predict(np.reshape(zimage , (3,128,128))\n",
    ")[0]\n",
    "# build the label\n",
    "label = \"Ray-Ban\" if sunglasses > notSunglasses else \"Persol\"\n",
    "proba = sunglasses if sunglasses > notSunglasses else notSunglasses\n",
    "label = \"{}: {:.2f}%\".format(label, proba * 100)\n",
    "print(label)"
   ]
  },
  {
   "cell_type": "code",
   "execution_count": null,
   "metadata": {},
   "outputs": [
    {
     "name": "stdout",
     "output_type": "stream",
     "text": [
      "Train on 5074 samples, validate on 1692 samples\n",
      "Epoch 1/50\n",
      "5074/5074 [==============================] - 171s 34ms/step - loss: 0.5783 - acc: 0.7333 - val_loss: 0.4961 - val_acc: 0.7908\n",
      "Epoch 2/50\n",
      "5074/5074 [==============================] - 168s 33ms/step - loss: 0.4474 - acc: 0.8114 - val_loss: 0.3868 - val_acc: 0.8493\n",
      "Epoch 3/50\n",
      "5074/5074 [==============================] - 168s 33ms/step - loss: 0.3702 - acc: 0.8601 - val_loss: 0.3327 - val_acc: 0.8794\n",
      "Epoch 4/50\n",
      "5074/5074 [==============================] - 169s 33ms/step - loss: 0.3208 - acc: 0.8788 - val_loss: 0.3153 - val_acc: 0.8824\n",
      "Epoch 5/50\n",
      "5074/5074 [==============================] - 171s 34ms/step - loss: 0.2793 - acc: 0.9020 - val_loss: 0.2983 - val_acc: 0.9007\n",
      "Epoch 6/50\n",
      "5074/5074 [==============================] - 168s 33ms/step - loss: 0.2359 - acc: 0.9155 - val_loss: 0.2936 - val_acc: 0.9090\n",
      "Epoch 7/50\n",
      "5074/5074 [==============================] - 168s 33ms/step - loss: 0.2029 - acc: 0.9314 - val_loss: 0.2905 - val_acc: 0.9019\n",
      "Epoch 8/50\n",
      "5074/5074 [==============================] - 171s 34ms/step - loss: 0.1679 - acc: 0.9415 - val_loss: 0.2941 - val_acc: 0.9043\n",
      "Epoch 9/50\n",
      "5074/5074 [==============================] - 168s 33ms/step - loss: 0.1487 - acc: 0.9434 - val_loss: 0.3285 - val_acc: 0.9043\n",
      "Epoch 10/50\n",
      "5074/5074 [==============================] - 168s 33ms/step - loss: 0.1352 - acc: 0.9537 - val_loss: 0.3817 - val_acc: 0.9072\n",
      "Epoch 11/50\n",
      "5074/5074 [==============================] - 168s 33ms/step - loss: 0.1107 - acc: 0.9604 - val_loss: 0.3399 - val_acc: 0.8972\n",
      "Epoch 12/50\n",
      "5074/5074 [==============================] - 167s 33ms/step - loss: 0.0969 - acc: 0.9681 - val_loss: 0.5228 - val_acc: 0.9090\n",
      "Epoch 13/50\n",
      "5074/5074 [==============================] - 171s 34ms/step - loss: 0.1000 - acc: 0.9669 - val_loss: 0.3689 - val_acc: 0.9048\n",
      "Epoch 14/50\n",
      "5074/5074 [==============================] - 171s 34ms/step - loss: 0.0790 - acc: 0.9742 - val_loss: 0.4336 - val_acc: 0.9072\n",
      "Epoch 15/50\n",
      "2275/5074 [============>.................] - ETA: 1:25 - loss: 0.0518 - acc: 0.9837"
     ]
    }
   ],
   "source": [
    "our=createModel()\n",
    "our.compile(loss='binary_crossentropy', optimizer='adam', metrics=['accuracy'])\n",
    "our.fit(trainX, trainY, validation_data=(testX, testY),shuffle=True, epochs=50, batch_size=25, verbose=1)"
   ]
  },
  {
   "cell_type": "code",
   "execution_count": 191,
   "metadata": {
    "scrolled": true
   },
   "outputs": [
    {
     "data": {
      "image/png": "[encoded data removed]",
      "text/plain": [
       "<Figure size 432x288 with 1 Axes>"
      ]
     },
     "metadata": {},
     "output_type": "display_data"
    }
   ],
   "source": [
    "# summarize history for accuracy\n",
    "hist = our.history\n",
    "plt.plot(hist.history['acc'])\n",
    "plt.plot(hist.history['val_acc'])\n",
    "plt.title('model accuracy')\n",
    "plt.ylabel('accuracy')\n",
    "plt.xlabel('epoch')\n",
    "plt.legend(['train', 'test'], loc='upper left')\n",
    "plt.show()"
   ]
  },
  {
   "cell_type": "code",
   "execution_count": 192,
   "metadata": {},
   "outputs": [
    {
     "data": {
      "image/png": "[encoded data removed]",
      "text/plain": [
       "<Figure size 432x288 with 1 Axes>"
      ]
     },
     "metadata": {},
     "output_type": "display_data"
    }
   ],
   "source": [
    "plt.plot(hist.history['loss'])\n",
    "plt.plot(hist.history['val_loss'])\n",
    "plt.title('model loss')\n",
    "plt.ylabel('loss')\n",
    "plt.xlabel('epoch')\n",
    "plt.legend(['train', 'test'], loc='upper left')\n",
    "plt.show()"
   ]
  },
  {
   "cell_type": "code",
   "execution_count": 178,
   "metadata": {},
   "outputs": [],
   "source": [
    "our.save('model128128_2910.model')"
   ]
  },
  {
   "cell_type": "code",
   "execution_count": 154,
   "metadata": {},
   "outputs": [
    {
     "data": {
      "text/plain": [
       "array([1, 1, 1, ..., 0, 0, 0])"
      ]
     },
     "execution_count": 154,
     "metadata": {},
     "output_type": "execute_result"
    }
   ],
   "source": [
    "labels"
   ]
  },
  {
   "cell_type": "code",
   "execution_count": 189,
   "metadata": {},
   "outputs": [
    {
     "name": "stdout",
     "output_type": "stream",
     "text": [
      "Not Rayban: 99.99%\n"
     ]
    }
   ],
   "source": [
    "# pre-process the image for classification\n",
    "image = cv2.imread('/home/neuronelab/Desktop/FraudDetection_v2/NN/test_images/s6.jpg')### CHANGE PATH\n",
    "zimage = cv2.resize(image, (128, 128))\n",
    "image = zimage.astype(\"float\") / 255.0\n",
    "image = img_to_array(image)\n",
    "image = np.expand_dims(image, axis=0)\n",
    "#IMAGE LEGEND R = RAYBAN  , S=SUNGLASSES , W = PEOPLE WITH SUNGLASSES , N = NO SUNGLASSES\n",
    "(notSunglasses, sunglasses) = our.predict(image)[0]\n",
    "# build the label\n",
    "label = \"RayBan\" if sunglasses > notSunglasses else \"Not Rayban\"\n",
    "proba = sunglasses if sunglasses > notSunglasses else notSunglasses\n",
    "label = \"{}: {:.2f}%\".format(label, proba * 100)\n",
    "print(label)"
   ]
  },
  {
   "cell_type": "code",
   "execution_count": null,
   "metadata": {},
   "outputs": [],
   "source": []
  },
  {
   "cell_type": "code",
   "execution_count": null,
   "metadata": {},
   "outputs": [],
   "source": [
    "#https://flyyufelix.github.io/2016/10/03/fine-tuning-in-keras-part1.html"
   ]
  }
 ],
 "metadata": {
  "kernelspec": {
   "display_name": "Python 3",
   "language": "python",
   "name": "python3"
  },
  "language_info": {
   "codemirror_mode": {
    "name": "ipython",
    "version": 3
   },
   "file_extension": ".py",
   "mimetype": "text/x-python",
   "name": "python",
   "nbconvert_exporter": "python",
   "pygments_lexer": "ipython3",
   "version": "3.6.5"
  }
 },
 "nbformat": 4,
 "nbformat_minor": 2
}
