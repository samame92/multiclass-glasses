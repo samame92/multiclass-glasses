{
 "cells": [
  {
   "cell_type": "code",
   "execution_count": 57,
   "metadata": {},
   "outputs": [],
   "source": [
    "import keras\n",
    "import os\n",
    "import tensorboard as tf\n",
    "from sklearn.model_selection import train_test_split\n",
    "from keras.models import Sequential\n",
    "from keras.layers.core import Dense\n",
    "from keras.layers import Dense, Conv2D, MaxPooling2D, Dropout, Flatten\n",
    "from keras.models import model_from_json\n",
    "from sklearn.model_selection import train_test_split\n",
    "from keras.preprocessing.image import img_to_array\n",
    "from keras.layers import Dropout\n",
    "from sklearn.metrics import classification_report, confusion_matrix\n",
    "import numpy as np\n",
    "import pandas as pd\n",
    "import PIL\n",
    "from PIL import Image\n",
    "from keras.preprocessing.image import ImageDataGenerator\n",
    "import scipy.io as sio\n",
    "#from imutils import paths\n",
    "from keras.utils import to_categorical\n",
    "import scipy.misc as mi\n",
    "import matplotlib.pyplot as plt"
   ]
  },
  {
   "cell_type": "code",
   "execution_count": 58,
   "metadata": {},
   "outputs": [],
   "source": [
    "# import the necessary packages\n",
    "import os\n",
    "\n",
    "def list_images(basePath, contains=None):\n",
    "    # return the set of files that are valid\n",
    "    return list_files(basePath, validExts=(\".jpg\", \".jpeg\", \".png\", \".bmp\", \".tif\", \".tiff\"), contains=contains)\n",
    "\n",
    "def list_files(basePath, validExts=(\".jpg\", \".jpeg\", \".png\", \".bmp\", \".tif\", \".tiff\"), contains=None):\n",
    "    # loop over the directory structure\n",
    "    for (rootDir, dirNames, filenames) in os.walk(basePath):\n",
    "        # loop over the filenames in the current directory\n",
    "        for filename in filenames:\n",
    "            # if the contains string is not none and the filename does not contain\n",
    "            # the supplied string, then ignore the file\n",
    "            if contains is not None and filename.find(contains) == -1:\n",
    "                continue\n",
    "\n",
    "            # determine the file extension of the current file\n",
    "            ext = filename[filename.rfind(\".\"):].lower()\n",
    "\n",
    "            # check to see if the file is an image and should be processed\n",
    "            if ext.endswith(validExts):\n",
    "                # construct the path to the image and yield it\n",
    "                imagePath = os.path.join(rootDir, filename).replace(\" \", \"\\\\ \")\n",
    "                yield imagePath"
   ]
  },
  {
   "cell_type": "code",
   "execution_count": 140,
   "metadata": {},
   "outputs": [],
   "source": [
    "def createModel():\n",
    "    model = Sequential()\n",
    "    \n",
    "    #Convolutional layers with 32 filters / kernels with a window size of 3×3\n",
    "    model.add(Conv2D(32, (3, 3), padding='same', activation='relu', input_shape=(128,128,3)))\n",
    "    model.add(Conv2D(32, (3, 3), activation='relu'))\n",
    "     #Max pooling layer with window size 2×2\n",
    "    model.add(MaxPooling2D(pool_size=(2, 2)))\n",
    "    model.add(Dropout(0.25))\n",
    "    \n",
    "    #Conv layer with 64 filters\n",
    "        \n",
    "    model.add(Conv2D(64, (3, 3), padding='same', activation='relu'))\n",
    "    model.add(Conv2D(64, (3, 3), activation='relu'))\n",
    "    model.add(MaxPooling2D(pool_size=(2, 2)))\n",
    "    model.add(Dropout(0.25))\n",
    " \n",
    "    model.add(Conv2D(64, (3, 3), padding='same', activation='relu'))\n",
    "    model.add(Conv2D(64, (3, 3), activation='relu'))\n",
    "    model.add(MaxPooling2D(pool_size=(2, 2)))\n",
    "    model.add(Dropout(0.25))\n",
    " \n",
    "    #Dense layer which performs the classification among 10 classes using a softmax layer\n",
    "    \n",
    "    model.add(Flatten())\n",
    "    model.add(Dense(512, activation='relu'))\n",
    "    model.add(Dropout(0.5))\n",
    "    model.add(Dense(2, activation='softmax'))\n",
    "     \n",
    "    return model"
   ]
  },
  {
   "cell_type": "code",
   "execution_count": 118,
   "metadata": {},
   "outputs": [],
   "source": [
    "from keras.layers.convolutional import Convolution2D, MaxPooling2D, ZeroPadding2D, AveragePooling2D\n",
    "from keras.optimizers import SGD, Adagrad\n",
    "\n",
    "def create_model_one():\n",
    "    model = Sequential()\n",
    "    model.add(ZeroPadding2D((1, 1), input_shape=(3, 128, 128), dim_ordering='th'))\n",
    "    model.add(Convolution2D(8, 3, 3, activation='relu', dim_ordering='th', init='he_uniform'))\n",
    "    model.add(Dropout(0.2))\n",
    "    model.add(MaxPooling2D(pool_size=(2, 2), strides=(2, 2), dim_ordering='th'))\n",
    "    model.add(ZeroPadding2D((1, 1), dim_ordering='th'))\n",
    "    model.add(Convolution2D(16, 3, 3, activation='relu', dim_ordering='th', init='he_uniform'))\n",
    "    model.add(MaxPooling2D(pool_size=(2, 2), strides=(2, 2), dim_ordering='th'))\n",
    "    model.add(Dropout(0.2))\n",
    "    \n",
    "    model.add(Flatten())\n",
    "    model.add(Dense(96, activation='relu',init='he_uniform'))\n",
    "    model.add(Dropout(0.4))\n",
    "    model.add(Dense(24, activation='relu',init='he_uniform'))\n",
    "    model.add(Dropout(0.2))\n",
    "    model.add(Dense(2, activation='softmax'))\n",
    "\n",
    "    sgd = SGD(lr=1e-2, decay=1e-4, momentum=0.89, nesterov=False)\n",
    "    model.compile(optimizer=sgd, loss='categorical_crossentropy' , metrics=['accuracy'])\n",
    "\n",
    "    return model"
   ]
  },
  {
   "cell_type": "code",
   "execution_count": 102,
   "metadata": {},
   "outputs": [
    {
     "data": {
      "text/plain": [
       "(64, 64, 3)"
      ]
     },
     "execution_count": 102,
     "metadata": {},
     "output_type": "execute_result"
    }
   ],
   "source": [
    "image.shape"
   ]
  },
  {
   "cell_type": "code",
   "execution_count": 103,
   "metadata": {},
   "outputs": [
    {
     "data": {
      "text/plain": [
       "array([[[255., 255., 255., ..., 255., 255., 255.],\n",
       "        [255., 255., 255., ..., 255., 255., 255.],\n",
       "        [255., 255., 255., ..., 255., 255., 255.],\n",
       "        ...,\n",
       "        [255., 255., 255., ..., 255., 255., 255.],\n",
       "        [255., 255., 255., ..., 254., 252., 253.],\n",
       "        [172., 171., 173., ..., 254., 254., 254.]],\n",
       "\n",
       "       [[254., 254., 252., ..., 255., 255., 255.],\n",
       "        [255., 255., 255., ..., 242., 239., 238.],\n",
       "        [187., 186., 190., ..., 245., 245., 255.],\n",
       "        ...,\n",
       "        [ 81., 192., 197., ..., 255., 255., 255.],\n",
       "        [255., 255., 255., ..., 255., 255., 255.],\n",
       "        [255., 255., 255., ...,  51., 109.,  92.]],\n",
       "\n",
       "       [[ 76., 251., 255., ..., 255., 255., 255.],\n",
       "        [255., 255., 255., ..., 255., 255., 255.],\n",
       "        [255., 255., 255., ...,  50., 123., 106.],\n",
       "        ...,\n",
       "        [255., 255., 255., ..., 255., 255., 255.],\n",
       "        [255., 255., 255., ..., 255., 255., 255.],\n",
       "        [255., 255., 255., ..., 255., 255., 255.]]], dtype=float32)"
      ]
     },
     "execution_count": 103,
     "metadata": {},
     "output_type": "execute_result"
    }
   ],
   "source": [
    "np.reshape(image , (3,64,64))"
   ]
  },
  {
   "cell_type": "code",
   "execution_count": 60,
   "metadata": {},
   "outputs": [],
   "source": [
    "import random\n",
    "import cv2"
   ]
  },
  {
   "cell_type": "code",
   "execution_count": 61,
   "metadata": {},
   "outputs": [],
   "source": [
    "seed = 9\n",
    "np.random.seed(seed)"
   ]
  },
  {
   "cell_type": "code",
   "execution_count": 62,
   "metadata": {},
   "outputs": [],
   "source": [
    "import pickle\n",
    "def savepickle(obj , filename):\n",
    "    f = open(filename+'.pckl', 'wb')\n",
    "    pickle.dump(obj, f)\n",
    "    f.close()\n",
    "def loadpickle(filename):\n",
    "    f = open(filename+'.pckl', 'rb')\n",
    "    obj = pickle.load(f)\n",
    "    f.close()\n",
    "    return obj"
   ]
  },
  {
   "cell_type": "code",
   "execution_count": 142,
   "metadata": {
    "scrolled": true
   },
   "outputs": [
    {
     "name": "stdout",
     "output_type": "stream",
     "text": [
      "[INFO] loading images...\n",
      "error loading  /home/neuronelab/Desktop/newDataset/Other/Arman92.jpg\n"
     ]
    }
   ],
   "source": [
    "imageFolderPath = '/home/neuronelab/Desktop/newDataset/'\n",
    "# initialize the data and labels\n",
    "print(\"[INFO] loading images...\")\n",
    "data = []\n",
    "labels = []\n",
    "\n",
    "# grab the image paths and randomly shuffle them\n",
    "imagePaths = list(list_images(imageFolderPath))\n",
    "\n",
    "\n",
    "# loop over the input images\n",
    "for imagePath in imagePaths:\n",
    "    if imagePath is not None:\n",
    "        try:\n",
    "            # load the image, pre-process it, and store it in the data list\n",
    "            image = cv2.imread(imagePath)\n",
    "            zimage = cv2.resize(image, (128, 128))\n",
    "            image = img_to_array(zimage)\n",
    "            #image = np.reshape(image , (3,128,128))\n",
    "            data.append(image)\n",
    "            # extract the class label from the image path and update the\n",
    "            # labels list\n",
    "            label = imagePath.split(os.path.sep)[-2]\n",
    "            label = 1 if label == \"Ray-Ban\" else 0\n",
    "            labels.append(label)\n",
    "        except:\n",
    "            print(\"error loading \", imagePath)\n",
    "# scale the raw pixel intensities to the range [0, 1]\n",
    "data = np.array(data, dtype=\"float\") / 255.0\n",
    "labels = np.array(labels)"
   ]
  },
  {
   "cell_type": "code",
   "execution_count": 66,
   "metadata": {},
   "outputs": [
    {
     "name": "stdout",
     "output_type": "stream",
     "text": [
      "[1 1 1 ... 0 0 0]\n"
     ]
    }
   ],
   "source": [
    "print(labels)"
   ]
  },
  {
   "cell_type": "code",
   "execution_count": 143,
   "metadata": {},
   "outputs": [
    {
     "name": "stdout",
     "output_type": "stream",
     "text": [
      "(4137, 128, 128, 3)\n"
     ]
    }
   ],
   "source": [
    "(trainX, testX, trainY, testY) = train_test_split(data,labels, test_size=0.25, random_state=42)\n",
    "\n",
    "# convert the labels from integers to vectors\n",
    "trainY = to_categorical(trainY, num_classes=2)\n",
    "testY = to_categorical(testY, num_classes=2)\n",
    "print(trainX.shape)"
   ]
  },
  {
   "cell_type": "code",
   "execution_count": 121,
   "metadata": {},
   "outputs": [
    {
     "name": "stderr",
     "output_type": "stream",
     "text": [
      "/home/neuronelab/anaconda3/lib/python3.6/site-packages/ipykernel_launcher.py:6: UserWarning: Update your `ZeroPadding2D` call to the Keras 2 API: `ZeroPadding2D((1, 1), input_shape=(3, 128, 1..., data_format=\"channels_first\")`\n",
      "  \n",
      "/home/neuronelab/anaconda3/lib/python3.6/site-packages/ipykernel_launcher.py:7: UserWarning: Update your `Conv2D` call to the Keras 2 API: `Conv2D(8, (3, 3), activation=\"relu\", data_format=\"channels_first\", kernel_initializer=\"he_uniform\")`\n",
      "  import sys\n",
      "/home/neuronelab/anaconda3/lib/python3.6/site-packages/ipykernel_launcher.py:9: UserWarning: Update your `MaxPooling2D` call to the Keras 2 API: `MaxPooling2D(pool_size=(2, 2), strides=(2, 2), data_format=\"channels_first\")`\n",
      "  if __name__ == '__main__':\n",
      "/home/neuronelab/anaconda3/lib/python3.6/site-packages/ipykernel_launcher.py:10: UserWarning: Update your `ZeroPadding2D` call to the Keras 2 API: `ZeroPadding2D((1, 1), data_format=\"channels_first\")`\n",
      "  # Remove the CWD from sys.path while we load stuff.\n",
      "/home/neuronelab/anaconda3/lib/python3.6/site-packages/ipykernel_launcher.py:11: UserWarning: Update your `Conv2D` call to the Keras 2 API: `Conv2D(16, (3, 3), activation=\"relu\", data_format=\"channels_first\", kernel_initializer=\"he_uniform\")`\n",
      "  # This is added back by InteractiveShellApp.init_path()\n",
      "/home/neuronelab/anaconda3/lib/python3.6/site-packages/ipykernel_launcher.py:12: UserWarning: Update your `MaxPooling2D` call to the Keras 2 API: `MaxPooling2D(pool_size=(2, 2), strides=(2, 2), data_format=\"channels_first\")`\n",
      "  if sys.path[0] == '':\n",
      "/home/neuronelab/anaconda3/lib/python3.6/site-packages/ipykernel_launcher.py:16: UserWarning: Update your `Dense` call to the Keras 2 API: `Dense(96, activation=\"relu\", kernel_initializer=\"he_uniform\")`\n",
      "  app.launch_new_instance()\n",
      "/home/neuronelab/anaconda3/lib/python3.6/site-packages/ipykernel_launcher.py:18: UserWarning: Update your `Dense` call to the Keras 2 API: `Dense(24, activation=\"relu\", kernel_initializer=\"he_uniform\")`\n"
     ]
    }
   ],
   "source": [
    "prova = create_model_one()"
   ]
  },
  {
   "cell_type": "code",
   "execution_count": 123,
   "metadata": {},
   "outputs": [
    {
     "name": "stdout",
     "output_type": "stream",
     "text": [
      "Train on 4137 samples, validate on 1379 samples\n",
      "Epoch 1/50\n",
      "4137/4137 [==============================] - 43s 10ms/step - loss: 1.3519 - acc: 0.9161 - val_loss: 1.6831 - val_acc: 0.8956\n",
      "Epoch 2/50\n",
      "4137/4137 [==============================] - 42s 10ms/step - loss: 1.3519 - acc: 0.9161 - val_loss: 1.6831 - val_acc: 0.8956\n",
      "Epoch 3/50\n",
      "4137/4137 [==============================] - 42s 10ms/step - loss: 1.3519 - acc: 0.9161 - val_loss: 1.6831 - val_acc: 0.8956\n",
      "Epoch 4/50\n",
      "4137/4137 [==============================] - 42s 10ms/step - loss: 1.3558 - acc: 0.9159 - val_loss: 1.6831 - val_acc: 0.8956\n",
      "Epoch 5/50\n",
      "4137/4137 [==============================] - 42s 10ms/step - loss: 1.3519 - acc: 0.9161 - val_loss: 1.6831 - val_acc: 0.8956\n",
      "Epoch 6/50\n",
      "4137/4137 [==============================] - 42s 10ms/step - loss: 1.3519 - acc: 0.9161 - val_loss: 1.6831 - val_acc: 0.8956\n",
      "Epoch 7/50\n",
      "4137/4137 [==============================] - 42s 10ms/step - loss: 1.3519 - acc: 0.9161 - val_loss: 1.6831 - val_acc: 0.8956\n",
      "Epoch 8/50\n",
      "4137/4137 [==============================] - 43s 10ms/step - loss: 1.3519 - acc: 0.9161 - val_loss: 1.6831 - val_acc: 0.8956\n",
      "Epoch 9/50\n",
      "4137/4137 [==============================] - 42s 10ms/step - loss: 1.3519 - acc: 0.9161 - val_loss: 1.6831 - val_acc: 0.8956\n",
      "Epoch 10/50\n",
      "4137/4137 [==============================] - 42s 10ms/step - loss: 1.3519 - acc: 0.9161 - val_loss: 1.6831 - val_acc: 0.8956\n",
      "Epoch 11/50\n",
      "4137/4137 [==============================] - 42s 10ms/step - loss: 1.3558 - acc: 0.9159 - val_loss: 1.6831 - val_acc: 0.8956\n",
      "Epoch 12/50\n",
      "4137/4137 [==============================] - 42s 10ms/step - loss: 1.3519 - acc: 0.9161 - val_loss: 1.6831 - val_acc: 0.8956\n",
      "Epoch 13/50\n",
      "4137/4137 [==============================] - 42s 10ms/step - loss: 1.3519 - acc: 0.9161 - val_loss: 1.6831 - val_acc: 0.8956\n",
      "Epoch 14/50\n",
      "4137/4137 [==============================] - 42s 10ms/step - loss: 1.3519 - acc: 0.9161 - val_loss: 1.6831 - val_acc: 0.8956\n",
      "Epoch 15/50\n",
      "4137/4137 [==============================] - 42s 10ms/step - loss: 1.3519 - acc: 0.9161 - val_loss: 1.6831 - val_acc: 0.8956\n",
      "Epoch 16/50\n",
      "4137/4137 [==============================] - 42s 10ms/step - loss: 1.3519 - acc: 0.9161 - val_loss: 1.6831 - val_acc: 0.8956\n",
      "Epoch 17/50\n",
      "4137/4137 [==============================] - 43s 10ms/step - loss: 1.3519 - acc: 0.9161 - val_loss: 1.6831 - val_acc: 0.8956\n",
      "Epoch 18/50\n",
      "4137/4137 [==============================] - 42s 10ms/step - loss: 1.3519 - acc: 0.9161 - val_loss: 1.6831 - val_acc: 0.8956\n",
      "Epoch 19/50\n",
      "4137/4137 [==============================] - 42s 10ms/step - loss: 1.3519 - acc: 0.9161 - val_loss: 1.6831 - val_acc: 0.8956\n",
      "Epoch 20/50\n",
      "4137/4137 [==============================] - 43s 10ms/step - loss: 1.3519 - acc: 0.9161 - val_loss: 1.6831 - val_acc: 0.8956\n",
      "Epoch 21/50\n",
      "4137/4137 [==============================] - 42s 10ms/step - loss: 1.3519 - acc: 0.9161 - val_loss: 1.6831 - val_acc: 0.8956\n",
      "Epoch 22/50\n",
      "4137/4137 [==============================] - 42s 10ms/step - loss: 1.3519 - acc: 0.9161 - val_loss: 1.6831 - val_acc: 0.8956\n",
      "Epoch 23/50\n",
      "4137/4137 [==============================] - 44s 11ms/step - loss: 1.3519 - acc: 0.9161 - val_loss: 1.6831 - val_acc: 0.8956\n",
      "Epoch 24/50\n",
      "4137/4137 [==============================] - 43s 10ms/step - loss: 1.3519 - acc: 0.9161 - val_loss: 1.6831 - val_acc: 0.8956\n",
      "Epoch 25/50\n",
      "4137/4137 [==============================] - 42s 10ms/step - loss: 1.3519 - acc: 0.9161 - val_loss: 1.6831 - val_acc: 0.8956\n",
      "Epoch 26/50\n",
      "4137/4137 [==============================] - 42s 10ms/step - loss: 1.3519 - acc: 0.9161 - val_loss: 1.6831 - val_acc: 0.8956\n",
      "Epoch 27/50\n",
      "4137/4137 [==============================] - 42s 10ms/step - loss: 1.3519 - acc: 0.9161 - val_loss: 1.6831 - val_acc: 0.8956\n",
      "Epoch 28/50\n",
      "4137/4137 [==============================] - 43s 10ms/step - loss: 1.3519 - acc: 0.9161 - val_loss: 1.6831 - val_acc: 0.8956\n",
      "Epoch 29/50\n",
      "4137/4137 [==============================] - 42s 10ms/step - loss: 1.3519 - acc: 0.9161 - val_loss: 1.6831 - val_acc: 0.8956\n",
      "Epoch 30/50\n",
      "4137/4137 [==============================] - 42s 10ms/step - loss: 1.3519 - acc: 0.9161 - val_loss: 1.6831 - val_acc: 0.8956\n",
      "Epoch 31/50\n",
      "4137/4137 [==============================] - 42s 10ms/step - loss: 1.3519 - acc: 0.9161 - val_loss: 1.6831 - val_acc: 0.8956\n",
      "Epoch 32/50\n",
      "4137/4137 [==============================] - 42s 10ms/step - loss: 1.3519 - acc: 0.9161 - val_loss: 1.6831 - val_acc: 0.8956\n",
      "Epoch 33/50\n",
      "4137/4137 [==============================] - 43s 10ms/step - loss: 1.3519 - acc: 0.9161 - val_loss: 1.6831 - val_acc: 0.8956\n",
      "Epoch 34/50\n",
      "4137/4137 [==============================] - 43s 10ms/step - loss: 1.3519 - acc: 0.9161 - val_loss: 1.6831 - val_acc: 0.8956\n",
      "Epoch 35/50\n",
      "4137/4137 [==============================] - 42s 10ms/step - loss: 1.3519 - acc: 0.9161 - val_loss: 1.6831 - val_acc: 0.8956\n",
      "Epoch 36/50\n",
      "4137/4137 [==============================] - 42s 10ms/step - loss: 1.3519 - acc: 0.9161 - val_loss: 1.6831 - val_acc: 0.8956\n",
      "Epoch 37/50\n",
      "4137/4137 [==============================] - 43s 10ms/step - loss: 1.3519 - acc: 0.9161 - val_loss: 1.6831 - val_acc: 0.8956\n",
      "Epoch 38/50\n",
      "4137/4137 [==============================] - 44s 11ms/step - loss: 1.3519 - acc: 0.9161 - val_loss: 1.6831 - val_acc: 0.8956\n",
      "Epoch 39/50\n",
      "4137/4137 [==============================] - 44s 11ms/step - loss: 1.3519 - acc: 0.9161 - val_loss: 1.6831 - val_acc: 0.8956\n",
      "Epoch 40/50\n",
      "4137/4137 [==============================] - 43s 10ms/step - loss: 1.3519 - acc: 0.9161 - val_loss: 1.6831 - val_acc: 0.8956\n",
      "Epoch 41/50\n",
      "4137/4137 [==============================] - 44s 11ms/step - loss: 1.3519 - acc: 0.9161 - val_loss: 1.6831 - val_acc: 0.8956\n",
      "Epoch 42/50\n",
      "4137/4137 [==============================] - 44s 11ms/step - loss: 1.3519 - acc: 0.9161 - val_loss: 1.6831 - val_acc: 0.8956\n",
      "Epoch 43/50\n",
      "4137/4137 [==============================] - 43s 10ms/step - loss: 1.3519 - acc: 0.9161 - val_loss: 1.6831 - val_acc: 0.8956\n",
      "Epoch 44/50\n",
      "4137/4137 [==============================] - 43s 10ms/step - loss: 1.3519 - acc: 0.9161 - val_loss: 1.6831 - val_acc: 0.8956\n",
      "Epoch 45/50\n",
      "4137/4137 [==============================] - 43s 10ms/step - loss: 1.3519 - acc: 0.9161 - val_loss: 1.6831 - val_acc: 0.8956\n",
      "Epoch 46/50\n",
      "4137/4137 [==============================] - 43s 10ms/step - loss: 1.3519 - acc: 0.9161 - val_loss: 1.6831 - val_acc: 0.8956\n",
      "Epoch 47/50\n",
      "4137/4137 [==============================] - 43s 10ms/step - loss: 1.3519 - acc: 0.9161 - val_loss: 1.6831 - val_acc: 0.8956\n",
      "Epoch 48/50\n",
      "4137/4137 [==============================] - 42s 10ms/step - loss: 1.3519 - acc: 0.9161 - val_loss: 1.6831 - val_acc: 0.8956\n",
      "Epoch 49/50\n",
      "4137/4137 [==============================] - 42s 10ms/step - loss: 1.3519 - acc: 0.9161 - val_loss: 1.6831 - val_acc: 0.8956\n",
      "Epoch 50/50\n",
      "4137/4137 [==============================] - 43s 10ms/step - loss: 1.3519 - acc: 0.9161 - val_loss: 1.6831 - val_acc: 0.8956\n"
     ]
    },
    {
     "data": {
      "text/plain": [
       "<keras.callbacks.History at 0x7fb5b9151160>"
      ]
     },
     "execution_count": 123,
     "metadata": {},
     "output_type": "execute_result"
    }
   ],
   "source": [
    "prova.fit(trainX, trainY, validation_data=(testX, testY),shuffle=True, epochs=50, batch_size=25, verbose=1)"
   ]
  },
  {
   "cell_type": "code",
   "execution_count": 68,
   "metadata": {
    "collapsed": true
   },
   "outputs": [
    {
     "name": "stdout",
     "output_type": "stream",
     "text": [
      "[INFO] compiling model...\n",
      "[INFO] training network...\n",
      "Epoch 1/40\n",
      "25/25 [==============================] - 5s 203ms/step - loss: 0.9903 - acc: 0.5437 - val_loss: 0.6895 - val_acc: 0.5491\n",
      "Epoch 2/40\n",
      "25/25 [==============================] - 4s 142ms/step - loss: 0.6892 - acc: 0.5542 - val_loss: 0.6806 - val_acc: 0.5491\n",
      "Epoch 3/40\n",
      "25/25 [==============================] - 4s 142ms/step - loss: 0.6875 - acc: 0.5599 - val_loss: 0.6840 - val_acc: 0.5491\n",
      "Epoch 4/40\n",
      "25/25 [==============================] - 4s 141ms/step - loss: 0.6819 - acc: 0.5537 - val_loss: 0.6953 - val_acc: 0.5527\n",
      "Epoch 5/40\n",
      "25/25 [==============================] - 3s 139ms/step - loss: 0.6759 - acc: 0.5731 - val_loss: 0.6841 - val_acc: 0.5527\n",
      "Epoch 6/40\n",
      "25/25 [==============================] - 4s 140ms/step - loss: 0.7071 - acc: 0.5293 - val_loss: 0.6651 - val_acc: 0.5491\n",
      "Epoch 7/40\n",
      "25/25 [==============================] - 3s 140ms/step - loss: 0.6698 - acc: 0.5890 - val_loss: 0.6805 - val_acc: 0.5455\n",
      "Epoch 8/40\n",
      "25/25 [==============================] - 4s 143ms/step - loss: 0.6847 - acc: 0.5756 - val_loss: 0.6760 - val_acc: 0.5527\n",
      "Epoch 9/40\n",
      "25/25 [==============================] - 4s 142ms/step - loss: 0.6806 - acc: 0.5474 - val_loss: 0.6659 - val_acc: 0.5491\n",
      "Epoch 10/40\n",
      "25/25 [==============================] - 4s 141ms/step - loss: 0.6663 - acc: 0.5962 - val_loss: 0.6846 - val_acc: 0.5745\n",
      "Epoch 11/40\n",
      "25/25 [==============================] - 4s 142ms/step - loss: 0.6606 - acc: 0.5924 - val_loss: 0.6809 - val_acc: 0.5818\n",
      "Epoch 12/40\n",
      "25/25 [==============================] - 4s 144ms/step - loss: 0.6536 - acc: 0.6362 - val_loss: 0.6683 - val_acc: 0.6182\n",
      "Epoch 13/40\n",
      "25/25 [==============================] - 4s 145ms/step - loss: 0.6692 - acc: 0.5881 - val_loss: 0.7040 - val_acc: 0.5818\n",
      "Epoch 14/40\n",
      "25/25 [==============================] - 4s 141ms/step - loss: 0.6588 - acc: 0.6440 - val_loss: 0.6798 - val_acc: 0.6036\n",
      "Epoch 15/40\n",
      "25/25 [==============================] - 4s 141ms/step - loss: 0.6412 - acc: 0.6412 - val_loss: 0.7466 - val_acc: 0.5745\n",
      "Epoch 16/40\n",
      "25/25 [==============================] - 3s 140ms/step - loss: 0.6715 - acc: 0.5939 - val_loss: 0.6706 - val_acc: 0.5891\n",
      "Epoch 17/40\n",
      "25/25 [==============================] - 4s 141ms/step - loss: 0.6509 - acc: 0.6444 - val_loss: 0.6746 - val_acc: 0.6000\n",
      "Epoch 18/40\n",
      "25/25 [==============================] - 4s 141ms/step - loss: 0.6557 - acc: 0.6140 - val_loss: 0.6824 - val_acc: 0.5818\n",
      "Epoch 19/40\n",
      "25/25 [==============================] - 4s 140ms/step - loss: 0.6928 - acc: 0.5915 - val_loss: 0.7132 - val_acc: 0.5745\n",
      "Epoch 20/40\n",
      "25/25 [==============================] - 3s 140ms/step - loss: 0.6693 - acc: 0.5765 - val_loss: 0.6845 - val_acc: 0.5527\n",
      "Epoch 21/40\n",
      "25/25 [==============================] - 4s 146ms/step - loss: 0.6681 - acc: 0.5925 - val_loss: 0.7707 - val_acc: 0.5273\n",
      "Epoch 22/40\n",
      "25/25 [==============================] - 4s 147ms/step - loss: 0.6675 - acc: 0.5699 - val_loss: 0.6661 - val_acc: 0.6182\n",
      "Epoch 23/40\n",
      "25/25 [==============================] - 4s 146ms/step - loss: 0.6426 - acc: 0.6516 - val_loss: 0.7416 - val_acc: 0.5855\n",
      "Epoch 24/40\n",
      "25/25 [==============================] - 4s 145ms/step - loss: 0.6498 - acc: 0.6130 - val_loss: 0.6944 - val_acc: 0.5964\n",
      "Epoch 25/40\n",
      "25/25 [==============================] - 4s 147ms/step - loss: 0.6349 - acc: 0.6400 - val_loss: 0.7080 - val_acc: 0.5964\n",
      "Epoch 26/40\n",
      "25/25 [==============================] - 4s 142ms/step - loss: 0.6484 - acc: 0.6204 - val_loss: 0.6691 - val_acc: 0.6145\n",
      "Epoch 27/40\n",
      "25/25 [==============================] - 4s 144ms/step - loss: 0.6387 - acc: 0.6562 - val_loss: 0.7574 - val_acc: 0.5673\n",
      "Epoch 28/40\n",
      "25/25 [==============================] - 4s 143ms/step - loss: 0.6223 - acc: 0.6558 - val_loss: 0.7937 - val_acc: 0.5818\n",
      "Epoch 29/40\n",
      "25/25 [==============================] - 4s 140ms/step - loss: 0.6290 - acc: 0.6513 - val_loss: 0.9170 - val_acc: 0.5636\n",
      "Epoch 30/40\n",
      "25/25 [==============================] - 4s 142ms/step - loss: 0.6414 - acc: 0.6544 - val_loss: 0.6984 - val_acc: 0.6000\n",
      "Epoch 31/40\n",
      "25/25 [==============================] - 4s 144ms/step - loss: 0.6172 - acc: 0.6559 - val_loss: 0.6854 - val_acc: 0.6145\n",
      "Epoch 32/40\n",
      "25/25 [==============================] - 4s 146ms/step - loss: 0.6103 - acc: 0.6656 - val_loss: 0.7167 - val_acc: 0.6400\n",
      "Epoch 33/40\n",
      "25/25 [==============================] - 4s 146ms/step - loss: 0.6195 - acc: 0.6584 - val_loss: 0.7310 - val_acc: 0.5927\n",
      "Epoch 34/40\n",
      "25/25 [==============================] - 4s 144ms/step - loss: 0.6247 - acc: 0.6638 - val_loss: 0.7034 - val_acc: 0.6145\n",
      "Epoch 35/40\n",
      "25/25 [==============================] - 4s 144ms/step - loss: 0.6337 - acc: 0.6624 - val_loss: 0.7333 - val_acc: 0.5855\n",
      "Epoch 36/40\n",
      "25/25 [==============================] - 4s 141ms/step - loss: 0.5999 - acc: 0.6942 - val_loss: 0.6803 - val_acc: 0.6255\n",
      "Epoch 37/40\n",
      "25/25 [==============================] - 3s 140ms/step - loss: 0.6293 - acc: 0.6600 - val_loss: 0.7710 - val_acc: 0.5782\n",
      "Epoch 38/40\n",
      "25/25 [==============================] - 3s 139ms/step - loss: 0.6313 - acc: 0.6375 - val_loss: 0.6864 - val_acc: 0.5927\n",
      "Epoch 39/40\n",
      "25/25 [==============================] - 4s 144ms/step - loss: 0.6254 - acc: 0.6421 - val_loss: 0.7803 - val_acc: 0.5636\n",
      "Epoch 40/40\n",
      "25/25 [==============================] - 4s 144ms/step - loss: 0.6278 - acc: 0.6459 - val_loss: 0.7061 - val_acc: 0.6109\n"
     ]
    }
   ],
   "source": [
    "from pyimagesearch.lenet import LeNet\n",
    "from keras.optimizers import Adam\n",
    "\n",
    "\n",
    "EPOCHS = 40\n",
    "INIT_LR = 1e-3\n",
    "BS = 32\n",
    "# construct the image generator for data augmentation\n",
    "aug = ImageDataGenerator(rotation_range=30, width_shift_range=0.1,height_shift_range=0.1, shear_range=0.2, zoom_range=0.2,horizontal_flip=True, fill_mode=\"nearest\")\n",
    "\n",
    "# initialize the model\n",
    "print(\"[INFO] compiling model...\")\n",
    "model = LeNet.build(width=64, height=64, depth=3, classes=2)\n",
    "opt = Adam(lr=INIT_LR, decay=INIT_LR / EPOCHS)\n",
    "model.compile(loss=\"binary_crossentropy\", optimizer=opt,metrics=[\"accuracy\"])\n",
    "\n",
    "# train the network\n",
    "print(\"[INFO] training network...\")\n",
    "H = model.fit_generator(aug.flow(trainX, trainY, batch_size=BS),validation_data=(testX, testY), steps_per_epoch=len(trainX) // BS,epochs=EPOCHS, verbose=1)\n",
    "\n"
   ]
  },
  {
   "cell_type": "code",
   "execution_count": 146,
   "metadata": {},
   "outputs": [
    {
     "name": "stdout",
     "output_type": "stream",
     "text": [
      "[INFO] serializing network...\n"
     ]
    }
   ],
   "source": [
    "# save the model to disk\n",
    "print(\"[INFO] serializing network...\")\n",
    "prova.save('ourNewModel128_128.model')\n"
   ]
  },
  {
   "cell_type": "code",
   "execution_count": 124,
   "metadata": {},
   "outputs": [],
   "source": [
    "hist = prova.history"
   ]
  },
  {
   "cell_type": "code",
   "execution_count": 125,
   "metadata": {},
   "outputs": [
    {
     "data": {
      "image/png": "[encoded data removed]",
      "text/plain": [
       "<Figure size 432x288 with 1 Axes>"
      ]
     },
     "metadata": {},
     "output_type": "display_data"
    }
   ],
   "source": [
    "# summarize history for accuracy\n",
    "plt.plot(hist.history['acc'])\n",
    "plt.plot(hist.history['val_acc'])\n",
    "plt.title('model accuracy')\n",
    "plt.ylabel('accuracy')\n",
    "plt.xlabel('epoch')\n",
    "plt.legend(['train', 'test'], loc='upper left')\n",
    "plt.show()"
   ]
  },
  {
   "cell_type": "code",
   "execution_count": 126,
   "metadata": {},
   "outputs": [
    {
     "data": {
      "image/png": "[encoded data removed]",
      "text/plain": [
       "<Figure size 432x288 with 1 Axes>"
      ]
     },
     "metadata": {},
     "output_type": "display_data"
    }
   ],
   "source": [
    "# summarize history for loss\n",
    "plt.plot(hist.history['loss'])\n",
    "plt.plot(hist.history['val_loss'])\n",
    "plt.title('model loss')\n",
    "plt.ylabel('loss')\n",
    "plt.xlabel('epoch')\n",
    "plt.legend(['train', 'test'], loc='upper left')\n",
    "plt.show()"
   ]
  },
  {
   "cell_type": "code",
   "execution_count": 136,
   "metadata": {},
   "outputs": [],
   "source": [
    "# pre-process the image for classification\n",
    "image = cv2.imread('/home/neuronelab/Desktop/FraudDetection_v2/NN/test_images/r2.jpg')### CHANGE PATH\n",
    "zimage = cv2.resize(image, (128, 128))\n",
    "image = zimage.astype(\"float\") / 255.0\n",
    "image = img_to_array(image)\n",
    "image = np.expand_dims(image, axis=0)\n",
    "#IMAGE LEGEND R = RAYBAN  , S=SUNGLASSES , W = PEOPLE WITH SUNGLASSES , N = NO SUNGLASSES"
   ]
  },
  {
   "cell_type": "code",
   "execution_count": 138,
   "metadata": {},
   "outputs": [
    {
     "ename": "ValueError",
     "evalue": "Error when checking input: expected zero_padding2d_17_input to have 4 dimensions, but got array with shape (3, 128, 128)",
     "output_type": "error",
     "traceback": [
      "\u001b[0;31m---------------------------------------------------------------------------\u001b[0m",
      "\u001b[0;31mValueError\u001b[0m                                Traceback (most recent call last)",
      "\u001b[0;32m<ipython-input-138-4ee3fcb7976f>\u001b[0m in \u001b[0;36m<module>\u001b[0;34m()\u001b[0m\n\u001b[0;32m----> 1\u001b[0;31m (notSunglasses, sunglasses) = prova.predict(np.reshape(zimage , (3,128,128))\n\u001b[0m\u001b[1;32m      2\u001b[0m )[0]\n\u001b[1;32m      3\u001b[0m \u001b[0;31m# build the label\u001b[0m\u001b[0;34m\u001b[0m\u001b[0;34m\u001b[0m\u001b[0m\n\u001b[1;32m      4\u001b[0m \u001b[0mlabel\u001b[0m \u001b[0;34m=\u001b[0m \u001b[0;34m\"Ray-Ban\"\u001b[0m \u001b[0;32mif\u001b[0m \u001b[0msunglasses\u001b[0m \u001b[0;34m>\u001b[0m \u001b[0mnotSunglasses\u001b[0m \u001b[0;32melse\u001b[0m \u001b[0;34m\"Persol\"\u001b[0m\u001b[0;34m\u001b[0m\u001b[0m\n\u001b[1;32m      5\u001b[0m \u001b[0mproba\u001b[0m \u001b[0;34m=\u001b[0m \u001b[0msunglasses\u001b[0m \u001b[0;32mif\u001b[0m \u001b[0msunglasses\u001b[0m \u001b[0;34m>\u001b[0m \u001b[0mnotSunglasses\u001b[0m \u001b[0;32melse\u001b[0m \u001b[0mnotSunglasses\u001b[0m\u001b[0;34m\u001b[0m\u001b[0m\n",
      "\u001b[0;32m~/anaconda3/lib/python3.6/site-packages/keras/engine/training.py\u001b[0m in \u001b[0;36mpredict\u001b[0;34m(self, x, batch_size, verbose, steps)\u001b[0m\n\u001b[1;32m   1147\u001b[0m                              'argument.')\n\u001b[1;32m   1148\u001b[0m         \u001b[0;31m# Validate user data.\u001b[0m\u001b[0;34m\u001b[0m\u001b[0;34m\u001b[0m\u001b[0m\n\u001b[0;32m-> 1149\u001b[0;31m         \u001b[0mx\u001b[0m\u001b[0;34m,\u001b[0m \u001b[0m_\u001b[0m\u001b[0;34m,\u001b[0m \u001b[0m_\u001b[0m \u001b[0;34m=\u001b[0m \u001b[0mself\u001b[0m\u001b[0;34m.\u001b[0m\u001b[0m_standardize_user_data\u001b[0m\u001b[0;34m(\u001b[0m\u001b[0mx\u001b[0m\u001b[0;34m)\u001b[0m\u001b[0;34m\u001b[0m\u001b[0m\n\u001b[0m\u001b[1;32m   1150\u001b[0m         \u001b[0;32mif\u001b[0m \u001b[0mself\u001b[0m\u001b[0;34m.\u001b[0m\u001b[0mstateful\u001b[0m\u001b[0;34m:\u001b[0m\u001b[0;34m\u001b[0m\u001b[0m\n\u001b[1;32m   1151\u001b[0m             \u001b[0;32mif\u001b[0m \u001b[0mx\u001b[0m\u001b[0;34m[\u001b[0m\u001b[0;36m0\u001b[0m\u001b[0;34m]\u001b[0m\u001b[0;34m.\u001b[0m\u001b[0mshape\u001b[0m\u001b[0;34m[\u001b[0m\u001b[0;36m0\u001b[0m\u001b[0;34m]\u001b[0m \u001b[0;34m>\u001b[0m \u001b[0mbatch_size\u001b[0m \u001b[0;32mand\u001b[0m \u001b[0mx\u001b[0m\u001b[0;34m[\u001b[0m\u001b[0;36m0\u001b[0m\u001b[0;34m]\u001b[0m\u001b[0;34m.\u001b[0m\u001b[0mshape\u001b[0m\u001b[0;34m[\u001b[0m\u001b[0;36m0\u001b[0m\u001b[0;34m]\u001b[0m \u001b[0;34m%\u001b[0m \u001b[0mbatch_size\u001b[0m \u001b[0;34m!=\u001b[0m \u001b[0;36m0\u001b[0m\u001b[0;34m:\u001b[0m\u001b[0;34m\u001b[0m\u001b[0m\n",
      "\u001b[0;32m~/anaconda3/lib/python3.6/site-packages/keras/engine/training.py\u001b[0m in \u001b[0;36m_standardize_user_data\u001b[0;34m(self, x, y, sample_weight, class_weight, check_array_lengths, batch_size)\u001b[0m\n\u001b[1;32m    749\u001b[0m             \u001b[0mfeed_input_shapes\u001b[0m\u001b[0;34m,\u001b[0m\u001b[0;34m\u001b[0m\u001b[0m\n\u001b[1;32m    750\u001b[0m             \u001b[0mcheck_batch_axis\u001b[0m\u001b[0;34m=\u001b[0m\u001b[0;32mFalse\u001b[0m\u001b[0;34m,\u001b[0m  \u001b[0;31m# Don't enforce the batch size.\u001b[0m\u001b[0;34m\u001b[0m\u001b[0m\n\u001b[0;32m--> 751\u001b[0;31m             exception_prefix='input')\n\u001b[0m\u001b[1;32m    752\u001b[0m \u001b[0;34m\u001b[0m\u001b[0m\n\u001b[1;32m    753\u001b[0m         \u001b[0;32mif\u001b[0m \u001b[0my\u001b[0m \u001b[0;32mis\u001b[0m \u001b[0;32mnot\u001b[0m \u001b[0;32mNone\u001b[0m\u001b[0;34m:\u001b[0m\u001b[0;34m\u001b[0m\u001b[0m\n",
      "\u001b[0;32m~/anaconda3/lib/python3.6/site-packages/keras/engine/training_utils.py\u001b[0m in \u001b[0;36mstandardize_input_data\u001b[0;34m(data, names, shapes, check_batch_axis, exception_prefix)\u001b[0m\n\u001b[1;32m    126\u001b[0m                         \u001b[0;34m': expected '\u001b[0m \u001b[0;34m+\u001b[0m \u001b[0mnames\u001b[0m\u001b[0;34m[\u001b[0m\u001b[0mi\u001b[0m\u001b[0;34m]\u001b[0m \u001b[0;34m+\u001b[0m \u001b[0;34m' to have '\u001b[0m \u001b[0;34m+\u001b[0m\u001b[0;34m\u001b[0m\u001b[0m\n\u001b[1;32m    127\u001b[0m                         \u001b[0mstr\u001b[0m\u001b[0;34m(\u001b[0m\u001b[0mlen\u001b[0m\u001b[0;34m(\u001b[0m\u001b[0mshape\u001b[0m\u001b[0;34m)\u001b[0m\u001b[0;34m)\u001b[0m \u001b[0;34m+\u001b[0m \u001b[0;34m' dimensions, but got array '\u001b[0m\u001b[0;34m\u001b[0m\u001b[0m\n\u001b[0;32m--> 128\u001b[0;31m                         'with shape ' + str(data_shape))\n\u001b[0m\u001b[1;32m    129\u001b[0m                 \u001b[0;32mif\u001b[0m \u001b[0;32mnot\u001b[0m \u001b[0mcheck_batch_axis\u001b[0m\u001b[0;34m:\u001b[0m\u001b[0;34m\u001b[0m\u001b[0m\n\u001b[1;32m    130\u001b[0m                     \u001b[0mdata_shape\u001b[0m \u001b[0;34m=\u001b[0m \u001b[0mdata_shape\u001b[0m\u001b[0;34m[\u001b[0m\u001b[0;36m1\u001b[0m\u001b[0;34m:\u001b[0m\u001b[0;34m]\u001b[0m\u001b[0;34m\u001b[0m\u001b[0m\n",
      "\u001b[0;31mValueError\u001b[0m: Error when checking input: expected zero_padding2d_17_input to have 4 dimensions, but got array with shape (3, 128, 128)"
     ]
    }
   ],
   "source": [
    "(notSunglasses, sunglasses) = prova.predict(np.reshape(zimage , (3,128,128))\n",
    ")[0]\n",
    "# build the label\n",
    "label = \"Ray-Ban\" if sunglasses > notSunglasses else \"Persol\"\n",
    "proba = sunglasses if sunglasses > notSunglasses else notSunglasses\n",
    "label = \"{}: {:.2f}%\".format(label, proba * 100)\n",
    "print(label)"
   ]
  },
  {
   "cell_type": "code",
   "execution_count": 148,
   "metadata": {
    "scrolled": true
   },
   "outputs": [
    {
     "name": "stdout",
     "output_type": "stream",
     "text": [
      "Train on 4137 samples, validate on 1379 samples\n",
      "Epoch 1/5\n",
      "4137/4137 [==============================] - 136s 33ms/step - loss: 1.3448 - acc: 0.9139 - val_loss: 1.6739 - val_acc: 0.8956\n",
      "Epoch 2/5\n",
      "4137/4137 [==============================] - 134s 32ms/step - loss: 1.3446 - acc: 0.9161 - val_loss: 1.6739 - val_acc: 0.8956\n",
      "Epoch 3/5\n",
      "4137/4137 [==============================] - 134s 32ms/step - loss: 1.3446 - acc: 0.9161 - val_loss: 1.6739 - val_acc: 0.8956\n",
      "Epoch 4/5\n",
      "4137/4137 [==============================] - 134s 32ms/step - loss: 1.3446 - acc: 0.9161 - val_loss: 1.6739 - val_acc: 0.8956\n",
      "Epoch 5/5\n",
      "4137/4137 [==============================] - 134s 32ms/step - loss: 1.3446 - acc: 0.9161 - val_loss: 1.6739 - val_acc: 0.8956\n"
     ]
    },
    {
     "data": {
      "text/plain": [
       "<keras.callbacks.History at 0x7fb5bbf4b2e8>"
      ]
     },
     "execution_count": 148,
     "metadata": {},
     "output_type": "execute_result"
    }
   ],
   "source": [
    "our=createModel()\n",
    "our.compile(loss='binary_crossentropy', optimizer='adam', metrics=['accuracy'])\n",
    "our.fit(trainX, trainY, validation_data=(testX, testY),shuffle=True, epochs=5, batch_size=25, verbose=1)"
   ]
  },
  {
   "cell_type": "code",
   "execution_count": 149,
   "metadata": {},
   "outputs": [
    {
     "data": {
      "image/png": "[encoded data removed]",
      "text/plain": [
       "<Figure size 432x288 with 1 Axes>"
      ]
     },
     "metadata": {},
     "output_type": "display_data"
    }
   ],
   "source": [
    "# summarize history for accuracy\n",
    "hist = our.history\n",
    "plt.plot(hist.history['acc'])\n",
    "plt.plot(hist.history['val_acc'])\n",
    "plt.title('model accuracy')\n",
    "plt.ylabel('accuracy')\n",
    "plt.xlabel('epoch')\n",
    "plt.legend(['train', 'test'], loc='upper left')\n",
    "plt.show()"
   ]
  },
  {
   "cell_type": "code",
   "execution_count": 150,
   "metadata": {},
   "outputs": [],
   "source": [
    "our.save('model1281282310.model')"
   ]
  },
  {
   "cell_type": "code",
   "execution_count": 154,
   "metadata": {},
   "outputs": [
    {
     "data": {
      "text/plain": [
       "array([1, 1, 1, ..., 0, 0, 0])"
      ]
     },
     "execution_count": 154,
     "metadata": {},
     "output_type": "execute_result"
    }
   ],
   "source": [
    "labels"
   ]
  },
  {
   "cell_type": "code",
   "execution_count": 153,
   "metadata": {},
   "outputs": [
    {
     "name": "stdout",
     "output_type": "stream",
     "text": [
      "Not Rayban: 100.00%\n"
     ]
    }
   ],
   "source": [
    "# pre-process the image for classification\n",
    "image = cv2.imread('/home/neuronelab/Desktop/FraudDetection_v2/NN/test_images/s1.jpg')### CHANGE PATH\n",
    "zimage = cv2.resize(image, (128, 128))\n",
    "image = zimage.astype(\"float\") / 255.0\n",
    "image = img_to_array(image)\n",
    "image = np.expand_dims(image, axis=0)\n",
    "#IMAGE LEGEND R = RAYBAN  , S=SUNGLASSES , W = PEOPLE WITH SUNGLASSES , N = NO SUNGLASSES\n",
    "(notSunglasses, sunglasses) = our.predict(image)[0]\n",
    "# build the label\n",
    "label = \"RayBan\" if sunglasses > notSunglasses else \"Not Rayban\"\n",
    "proba = sunglasses if sunglasses > notSunglasses else notSunglasses\n",
    "label = \"{}: {:.2f}%\".format(label, proba * 100)\n",
    "print(label)"
   ]
  },
  {
   "cell_type": "code",
   "execution_count": 71,
   "metadata": {},
   "outputs": [
    {
     "data": {
      "text/plain": [
       "(1, 64, 64, 3)"
      ]
     },
     "execution_count": 71,
     "metadata": {},
     "output_type": "execute_result"
    }
   ],
   "source": [
    "image.shape"
   ]
  },
  {
   "cell_type": "code",
   "execution_count": null,
   "metadata": {},
   "outputs": [],
   "source": []
  },
  {
   "cell_type": "code",
   "execution_count": null,
   "metadata": {},
   "outputs": [],
   "source": [
    "#https://flyyufelix.github.io/2016/10/03/fine-tuning-in-keras-part1.html"
   ]
  }
 ],
 "metadata": {
  "kernelspec": {
   "display_name": "Python 3",
   "language": "python",
   "name": "python3"
  },
  "language_info": {
   "codemirror_mode": {
    "name": "ipython",
    "version": 3
   },
   "file_extension": ".py",
   "mimetype": "text/x-python",
   "name": "python",
   "nbconvert_exporter": "python",
   "pygments_lexer": "ipython3",
   "version": "3.6.5"
  }
 },
 "nbformat": 4,
 "nbformat_minor": 2
}
